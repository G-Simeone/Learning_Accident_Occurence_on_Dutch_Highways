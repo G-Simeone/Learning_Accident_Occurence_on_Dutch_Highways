{
 "cells": [
  {
   "cell_type": "code",
   "execution_count": 1,
   "metadata": {},
   "outputs": [],
   "source": [
    "import pandas as pd\n",
    "import re\n",
    "import numpy as np\n",
    "import geopandas as gp\n",
    "import sys\n",
    "sys.path.append('../../src')\n",
    "from utils import misc_utils as ct\n",
    "#%matplotlib inline\n",
    "import matplotlib.pyplot as plt\n",
    "import osmnx as ox\n",
    "import folium\n",
    "from folium.plugins import MarkerCluster\n",
    "from folium import IFrame"
   ]
  },
  {
   "cell_type": "code",
   "execution_count": 2,
   "metadata": {},
   "outputs": [],
   "source": [
    "#############\n",
    "#Config\n",
    "############\n",
    "segmentation_table = 'ten_km'"
   ]
  },
  {
   "cell_type": "code",
   "execution_count": 4,
   "metadata": {},
   "outputs": [],
   "source": [
    "conn = ct.connect_rds()\n",
    "\n",
    "# first plot hectopoint segments, with different coloring for each sector\n",
    "# read in each hectopoint, along with it's assigned cluster\n",
    "sql = \"select s.hectokey, s.hectokey_merged, h.lat, h.long \\\n",
    "from segmentation.{0} as s \\\n",
    "left join rws_clean.unique_hectopunten as h \\\n",
    "on s.hectokey = h.hectokey \\\n",
    "where hectokey_merged  like '%.Li.Li' or hectokey_merged like '%.Re.Re';\".format(segmentation_table)\n",
    "df_hect = pd.read_sql(sql, con=conn)\n",
    "\n",
    "# extract the road segment value so that we can sort based on that value\n",
    "df_hect['hecto'] = df_hect['hectokey'].str.extract(r'^\\d+\\.(\\d+)\\.\\w+\\.\\w+')[0].astype(int)\n",
    "\n",
    "# get number of unique segments\n",
    "sql = \"select count(distinct(hectokey_merged)) from segmentation.{0} \\\n",
    "where hectokey_merged  like '%.Li.Li' or hectokey_merged like '%.Re.Re';\".format(segmentation_table)\n",
    "num_seg = pd.read_sql(sql, con=conn).iloc[0]['count']\n",
    "\n",
    "# generate random colors to use for segmentation\n",
    "colors = np.random.randint(low=0, high=0xFFFFFF, size=(num_seg,1))\n",
    "\n",
    "# get ongevallen dataset\n",
    "sql = \"select ongekey, datetime, lat, long from rws_clean.ongevallen;\"\n",
    "df_ong = pd.read_sql(sql, con=conn)\n",
    "df_ong['datetime'] = df_ong['datetime'].astype(str)\n",
    "\n",
    "\n",
    "# Get the loop data and add it to the map\n",
    "sql = \"select loop_unique_key, lat, long from rws_clean.flow_hect_link;\"\n",
    "df_loop = pd.read_sql(sql, con=conn)\n",
    "\n",
    "# Get the weather data and add it to the map\n",
    "sql = \"\"\"select \"STN\" as station_id, \"LAT(north)\" as lat, \"LON(east)\" as long from rws_raw.knmi_station \\\n",
    "where \"STN\" in ('240','260','269','348','356');\"\"\"\n",
    "df_knmi = pd.read_sql(sql, con=conn)\n",
    "\n",
    "conn.close()"
   ]
  },
  {
   "cell_type": "code",
   "execution_count": 4,
   "metadata": {},
   "outputs": [],
   "source": [
    "# generates array with the coordinate values for all hectopoints in the segment\n",
    "def get_seg_coords(df):\n",
    "    coords = []\n",
    "    for index, row in df.iterrows():\n",
    "        coords.append([row['long'], row['lat']])   \n",
    "    return coords"
   ]
  },
  {
   "cell_type": "code",
   "execution_count": 5,
   "metadata": {},
   "outputs": [
    {
     "data": {
      "text/plain": [
       "<folium.map.TileLayer at 0x7fe7581e1160>"
      ]
     },
     "execution_count": 5,
     "metadata": {},
     "output_type": "execute_result"
    }
   ],
   "source": [
    "# Add the background for the map, give two view options, OSM and neutral\n",
    "# boundary of the image on the map\n",
    "min_lon = 4.77322\n",
    "max_lon = 5.57805\n",
    "min_lat = 51.8252\n",
    "max_lat = 52.37998994\n",
    "\n",
    "map_rws = folium.Map(location=[52.2275,5.45671],tiles='openstreetmap')\n",
    "folium.TileLayer('Stamen Toner').add_to(map_rws)\n",
    "folium.TileLayer('cartodbpositron').add_to(map_rws)"
   ]
  },
  {
   "cell_type": "code",
   "execution_count": 6,
   "metadata": {},
   "outputs": [],
   "source": [
    "#Add hectopunten data to map\n",
    "\n",
    "# NOTE: This code will need to change if segments can consists of more than one road\n",
    "# generate geojson string for all the coordinates for each segment\n",
    "df_hect_coords = df_hect.sort_values(['hecto']).groupby(['hectokey_merged']).apply(lambda x: get_seg_coords(x)).reset_index(name='seg_coords')\n",
    "\n",
    "# write data as geoson structure\n",
    "fg = folium.FeatureGroup(name='Hectopunten Segments').add_to(map_rws)\n",
    "for idx, row in df_hect_coords.iterrows():\n",
    "    geojson_data = {'type':'FeatureCollection', 'features':[]}    \n",
    "    feature = {'type':'Feature',\n",
    "'properties':{'name':row['hectokey_merged'], 'strokeColor':'#%06x' % colors[idx][0],\n",
    "             \"popupContent\": row['hectokey_merged']},\n",
    "'geometry':{'type':'LineString',\n",
    "'coordinates':[]}}\n",
    "    feature['geometry']['coordinates'] = row['seg_coords']\n",
    "    geojson_data['features'].append(feature)\n",
    "\n",
    "# add it to the map\n",
    "    g = folium.GeoJson(geojson_data,\n",
    "              name = row['hectokey_merged'],\n",
    "               style_function=lambda feature: {\n",
    "                   'color': feature['properties']['strokeColor'],\n",
    "                   'weight': 2\n",
    "               })\n",
    "    g.add_child(folium.Popup(row['hectokey_merged']))\n",
    "    fg.add_child(g)\n",
    "#resource: http://geologyandpython.com/geology-of-MI-and-WI.html\n",
    "#resource: http://nbviewer.jupyter.org/github/python-visualization/folium/blob/master/examples/GeoJSON_and_choropleth.ipynb\n",
    "#resource: http://geoffboeing.com/2015/10/exporting-python-data-geojson/"
   ]
  },
  {
   "cell_type": "code",
   "execution_count": null,
   "metadata": {},
   "outputs": [],
   "source": [
    "# Add ongevallen markers\n",
    "coords, popups = [], [] \n",
    "for i, row in df_ong.iterrows():\n",
    "    #Append lat and long coordinates to \"coords\" list\n",
    "    coords.append([row['lat'], row['long']])\n",
    "    label = '<br>'.join([row[field] for field in ['ongekey','datetime']])\n",
    "    popups.append(IFrame(label, width = 300, height = 100))    \n",
    "#Create a Folium feature group for this layer, since we will be displaying multiple layers\n",
    "ongevallen = folium.FeatureGroup(name = 'Ongevallen')\n",
    "\n",
    "ongevallen.add_child(MarkerCluster(locations = coords, popups = popups))\n",
    "map_rws.add_child(ongevallen)\n",
    "\n",
    "#reference: http://andrewgaidus.com/leaflet_webmaps_python/\n",
    "#reference: https://medium.com/@bobhaffner/folium-markerclusters-and-fastmarkerclusters-1e03b01cb7b1 (if need to make faster)"
   ]
  },
  {
   "cell_type": "code",
   "execution_count": null,
   "metadata": {},
   "outputs": [],
   "source": [
    "# Add loop data\n",
    "\n",
    "\n",
    "lat_loop = [row for row in df_loop['lat']]\n",
    "lon_loop = [row for row in df_loop['long']]\n",
    "loop_id =  [row for row in df_loop['loop_unique_key']]\n",
    "\n",
    "#Create a Folium feature group for this layer, since we will be displaying multiple layers\n",
    "loops = folium.FeatureGroup(name = 'Flow/Speed Loops')\n",
    "\n",
    "for i in range(len(loop_id)):\n",
    "        folium.CircleMarker([lat_loop[i], lon_loop[i]], \\\n",
    "                  radius=1.0, popup=loop_id[i], color = 'red').add_to(loops)\n",
    "\n",
    "map_rws.add_child(loops)"
   ]
  },
  {
   "cell_type": "code",
   "execution_count": null,
   "metadata": {},
   "outputs": [],
   "source": [
    "# Add weather data\n",
    "\n",
    "lat_knmi = [row for row in df_knmi['lat']]\n",
    "lon_knmi = [row for row in df_knmi['long']]\n",
    "station_id =  [row for row in df_knmi['station_id'].astype(str)]\n",
    "\n",
    "knmi = folium.FeatureGroup(name = 'Weather Stations')\n",
    "\n",
    "for i in range(len(station_id)):\n",
    "        folium.Marker([lat_knmi[i], lon_knmi[i]],\n",
    "                  icon = folium.Icon(icon = 'cloud', color = 'green'),\n",
    "                      popup=station_id[i]).add_to(knmi)\n",
    "\n",
    "map_rws.add_child(knmi)"
   ]
  },
  {
   "cell_type": "code",
   "execution_count": 8,
   "metadata": {},
   "outputs": [],
   "source": [
    "# add layer control to toggle each data layer as well as background tiles. save as html\n",
    "folium.LayerControl().add_to(map_rws)\n",
    "map_rws.save('feature_overlay_map_{0}.html'.format(segmentation_table))"
   ]
  }
 ],
 "metadata": {
  "kernelspec": {
   "display_name": "Python 3",
   "language": "python",
   "name": "python3"
  },
  "language_info": {
   "codemirror_mode": {
    "name": "ipython",
    "version": 3
   },
   "file_extension": ".py",
   "mimetype": "text/x-python",
   "name": "python",
   "nbconvert_exporter": "python",
   "pygments_lexer": "ipython3",
   "version": "3.6.5"
  }
 },
 "nbformat": 4,
 "nbformat_minor": 2
}
