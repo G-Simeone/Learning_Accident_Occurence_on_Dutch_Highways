{
 "cells": [
  {
   "cell_type": "markdown",
   "metadata": {},
   "source": [
    "### Weather VS incidents\n",
    "\n",
    "This notebook compares the frequency of accident when it rains vs when it does not."
   ]
  },
  {
   "cell_type": "code",
   "execution_count": 1,
   "metadata": {},
   "outputs": [],
   "source": [
    "%matplotlib inline\n",
    "import matplotlib\n",
    "import numpy as np\n",
    "import matplotlib.pyplot as plt\n",
    "\n",
    "import pandas as pd\n",
    "pd.options.display.float_format = '{:,.4f}'.format\n",
    "import json"
   ]
  },
  {
   "cell_type": "code",
   "execution_count": 2,
   "metadata": {},
   "outputs": [],
   "source": [
    "import psycopg2\n"
   ]
  },
  {
   "cell_type": "code",
   "execution_count": 3,
   "metadata": {},
   "outputs": [],
   "source": [
    "PATH_CONFIG = '/mnt/data/hnisar/db_config.json'"
   ]
  },
  {
   "cell_type": "code",
   "execution_count": 4,
   "metadata": {},
   "outputs": [],
   "source": [
    "with open(PATH_CONFIG) as f:\n",
    "#     print(f.read())\n",
    "    config = json.load(f)\n",
    "    "
   ]
  },
  {
   "cell_type": "code",
   "execution_count": 5,
   "metadata": {},
   "outputs": [],
   "source": [
    "user = config['user']\n",
    "password = config['password']\n",
    "db = config['db']\n",
    "host = config['host']\n",
    "port = config['port']\n"
   ]
  },
  {
   "cell_type": "code",
   "execution_count": 6,
   "metadata": {},
   "outputs": [],
   "source": [
    "conn_str = \"host={} dbname={} user={} password={}\".format(host, db, user, password)"
   ]
  },
  {
   "cell_type": "code",
   "execution_count": 7,
   "metadata": {},
   "outputs": [],
   "source": [
    "conn = psycopg2.connect(conn_str)"
   ]
  },
  {
   "cell_type": "markdown",
   "metadata": {},
   "source": [
    "### ACCIDENTS AROUND STATION#240 "
   ]
  },
  {
   "cell_type": "code",
   "execution_count": 8,
   "metadata": {},
   "outputs": [],
   "source": [
    "station= 240\n",
    "sql_ong = f\"\"\"\n",
    "    with ong as (\n",
    "\twith distinct_hecto as (select distinct key, weerstation from rws_raw.hectopunten)\n",
    "\t\tselect * from rws_raw.ongevallen as o\n",
    "\t\tinner join distinct_hecto on o.key = distinct_hecto.key\n",
    "\t\twhere  distinct_hecto.weerstation::integer = {station})\n",
    "\t\n",
    "\tselect ong.datetime, k.*  from rws_raw.knmi_data as k\n",
    "\tleft join ong on  extract(year from ong.datetime) = extract(year from k.\"YYYYMMDD\" )\n",
    "\t                   and extract(month from ong.datetime) = extract(month from k.\"YYYYMMDD\" )\n",
    "\t                   and extract(day from ong.datetime) = extract(day from k.\"YYYYMMDD\" )\n",
    "\t                   and extract(hour from ong.datetime) = k.\"HH\"\n",
    "\twhere k.\"STN\"={station};\"\"\"\n",
    "df_ong = pd.read_sql(sql_ong, con=conn)"
   ]
  },
  {
   "cell_type": "code",
   "execution_count": 9,
   "metadata": {},
   "outputs": [
    {
     "data": {
      "text/plain": [
       "(62978, 26)"
      ]
     },
     "execution_count": 9,
     "metadata": {},
     "output_type": "execute_result"
    }
   ],
   "source": [
    "df_ong.shape"
   ]
  },
  {
   "cell_type": "code",
   "execution_count": 10,
   "metadata": {},
   "outputs": [],
   "source": [
    "df_ong['TDate'] = pd.to_datetime(df_ong[\"YYYYMMDD\"])\n",
    "df_ong['TDate'] += pd.to_timedelta(df_ong[\"HH\"], unit='h')"
   ]
  },
  {
   "cell_type": "code",
   "execution_count": 11,
   "metadata": {},
   "outputs": [
    {
     "data": {
      "text/html": [
       "<div>\n",
       "<style scoped>\n",
       "    .dataframe tbody tr th:only-of-type {\n",
       "        vertical-align: middle;\n",
       "    }\n",
       "\n",
       "    .dataframe tbody tr th {\n",
       "        vertical-align: top;\n",
       "    }\n",
       "\n",
       "    .dataframe thead th {\n",
       "        text-align: right;\n",
       "    }\n",
       "</style>\n",
       "<table border=\"1\" class=\"dataframe\">\n",
       "  <thead>\n",
       "    <tr style=\"text-align: right;\">\n",
       "      <th></th>\n",
       "      <th>datetime</th>\n",
       "      <th>STN</th>\n",
       "      <th>YYYYMMDD</th>\n",
       "      <th>HH</th>\n",
       "      <th>DD</th>\n",
       "      <th>FH</th>\n",
       "      <th>FF</th>\n",
       "      <th>FX</th>\n",
       "      <th>T</th>\n",
       "      <th>T10</th>\n",
       "      <th>...</th>\n",
       "      <th>VV</th>\n",
       "      <th>N</th>\n",
       "      <th>U</th>\n",
       "      <th>WW</th>\n",
       "      <th>IX</th>\n",
       "      <th>M</th>\n",
       "      <th>R</th>\n",
       "      <th>S</th>\n",
       "      <th>O</th>\n",
       "      <th>Y</th>\n",
       "    </tr>\n",
       "    <tr>\n",
       "      <th>TDate</th>\n",
       "      <th></th>\n",
       "      <th></th>\n",
       "      <th></th>\n",
       "      <th></th>\n",
       "      <th></th>\n",
       "      <th></th>\n",
       "      <th></th>\n",
       "      <th></th>\n",
       "      <th></th>\n",
       "      <th></th>\n",
       "      <th></th>\n",
       "      <th></th>\n",
       "      <th></th>\n",
       "      <th></th>\n",
       "      <th></th>\n",
       "      <th></th>\n",
       "      <th></th>\n",
       "      <th></th>\n",
       "      <th></th>\n",
       "      <th></th>\n",
       "      <th></th>\n",
       "    </tr>\n",
       "  </thead>\n",
       "  <tbody>\n",
       "    <tr>\n",
       "      <th>2012-01-01 01:00:00</th>\n",
       "      <td>NaT</td>\n",
       "      <td>240.0000</td>\n",
       "      <td>2012-01-01</td>\n",
       "      <td>1.0000</td>\n",
       "      <td>220.0000</td>\n",
       "      <td>60.0000</td>\n",
       "      <td>70.0000</td>\n",
       "      <td>90.0000</td>\n",
       "      <td>102.0000</td>\n",
       "      <td>nan</td>\n",
       "      <td>...</td>\n",
       "      <td>18.0000</td>\n",
       "      <td>8.0000</td>\n",
       "      <td>98.0000</td>\n",
       "      <td>81.0000</td>\n",
       "      <td>7.0000</td>\n",
       "      <td>True</td>\n",
       "      <td>True</td>\n",
       "      <td>False</td>\n",
       "      <td>False</td>\n",
       "      <td>False</td>\n",
       "    </tr>\n",
       "    <tr>\n",
       "      <th>2012-01-01 02:00:00</th>\n",
       "      <td>NaT</td>\n",
       "      <td>240.0000</td>\n",
       "      <td>2012-01-01</td>\n",
       "      <td>2.0000</td>\n",
       "      <td>230.0000</td>\n",
       "      <td>60.0000</td>\n",
       "      <td>70.0000</td>\n",
       "      <td>100.0000</td>\n",
       "      <td>106.0000</td>\n",
       "      <td>nan</td>\n",
       "      <td>...</td>\n",
       "      <td>47.0000</td>\n",
       "      <td>7.0000</td>\n",
       "      <td>97.0000</td>\n",
       "      <td>51.0000</td>\n",
       "      <td>7.0000</td>\n",
       "      <td>False</td>\n",
       "      <td>True</td>\n",
       "      <td>False</td>\n",
       "      <td>False</td>\n",
       "      <td>False</td>\n",
       "    </tr>\n",
       "    <tr>\n",
       "      <th>2012-01-01 03:00:00</th>\n",
       "      <td>2012-01-01 03:49:00</td>\n",
       "      <td>240.0000</td>\n",
       "      <td>2012-01-01</td>\n",
       "      <td>3.0000</td>\n",
       "      <td>230.0000</td>\n",
       "      <td>70.0000</td>\n",
       "      <td>80.0000</td>\n",
       "      <td>100.0000</td>\n",
       "      <td>111.0000</td>\n",
       "      <td>nan</td>\n",
       "      <td>...</td>\n",
       "      <td>60.0000</td>\n",
       "      <td>8.0000</td>\n",
       "      <td>96.0000</td>\n",
       "      <td>51.0000</td>\n",
       "      <td>7.0000</td>\n",
       "      <td>False</td>\n",
       "      <td>True</td>\n",
       "      <td>False</td>\n",
       "      <td>False</td>\n",
       "      <td>False</td>\n",
       "    </tr>\n",
       "    <tr>\n",
       "      <th>2012-01-01 04:00:00</th>\n",
       "      <td>NaT</td>\n",
       "      <td>240.0000</td>\n",
       "      <td>2012-01-01</td>\n",
       "      <td>4.0000</td>\n",
       "      <td>240.0000</td>\n",
       "      <td>90.0000</td>\n",
       "      <td>90.0000</td>\n",
       "      <td>130.0000</td>\n",
       "      <td>109.0000</td>\n",
       "      <td>nan</td>\n",
       "      <td>...</td>\n",
       "      <td>34.0000</td>\n",
       "      <td>8.0000</td>\n",
       "      <td>98.0000</td>\n",
       "      <td>53.0000</td>\n",
       "      <td>7.0000</td>\n",
       "      <td>False</td>\n",
       "      <td>True</td>\n",
       "      <td>False</td>\n",
       "      <td>False</td>\n",
       "      <td>False</td>\n",
       "    </tr>\n",
       "    <tr>\n",
       "      <th>2012-01-01 05:00:00</th>\n",
       "      <td>NaT</td>\n",
       "      <td>240.0000</td>\n",
       "      <td>2012-01-01</td>\n",
       "      <td>5.0000</td>\n",
       "      <td>240.0000</td>\n",
       "      <td>90.0000</td>\n",
       "      <td>90.0000</td>\n",
       "      <td>130.0000</td>\n",
       "      <td>112.0000</td>\n",
       "      <td>nan</td>\n",
       "      <td>...</td>\n",
       "      <td>65.0000</td>\n",
       "      <td>8.0000</td>\n",
       "      <td>97.0000</td>\n",
       "      <td>81.0000</td>\n",
       "      <td>7.0000</td>\n",
       "      <td>False</td>\n",
       "      <td>True</td>\n",
       "      <td>False</td>\n",
       "      <td>False</td>\n",
       "      <td>False</td>\n",
       "    </tr>\n",
       "    <tr>\n",
       "      <th>2012-01-01 06:00:00</th>\n",
       "      <td>2012-01-01 06:51:00</td>\n",
       "      <td>240.0000</td>\n",
       "      <td>2012-01-01</td>\n",
       "      <td>6.0000</td>\n",
       "      <td>240.0000</td>\n",
       "      <td>90.0000</td>\n",
       "      <td>90.0000</td>\n",
       "      <td>120.0000</td>\n",
       "      <td>115.0000</td>\n",
       "      <td>98.0000</td>\n",
       "      <td>...</td>\n",
       "      <td>65.0000</td>\n",
       "      <td>8.0000</td>\n",
       "      <td>95.0000</td>\n",
       "      <td>23.0000</td>\n",
       "      <td>7.0000</td>\n",
       "      <td>False</td>\n",
       "      <td>True</td>\n",
       "      <td>False</td>\n",
       "      <td>False</td>\n",
       "      <td>False</td>\n",
       "    </tr>\n",
       "    <tr>\n",
       "      <th>2012-01-01 07:00:00</th>\n",
       "      <td>NaT</td>\n",
       "      <td>240.0000</td>\n",
       "      <td>2012-01-01</td>\n",
       "      <td>7.0000</td>\n",
       "      <td>240.0000</td>\n",
       "      <td>90.0000</td>\n",
       "      <td>90.0000</td>\n",
       "      <td>130.0000</td>\n",
       "      <td>112.0000</td>\n",
       "      <td>nan</td>\n",
       "      <td>...</td>\n",
       "      <td>65.0000</td>\n",
       "      <td>8.0000</td>\n",
       "      <td>96.0000</td>\n",
       "      <td>nan</td>\n",
       "      <td>5.0000</td>\n",
       "      <td>False</td>\n",
       "      <td>False</td>\n",
       "      <td>False</td>\n",
       "      <td>False</td>\n",
       "      <td>False</td>\n",
       "    </tr>\n",
       "    <tr>\n",
       "      <th>2012-01-01 08:00:00</th>\n",
       "      <td>NaT</td>\n",
       "      <td>240.0000</td>\n",
       "      <td>2012-01-01</td>\n",
       "      <td>8.0000</td>\n",
       "      <td>230.0000</td>\n",
       "      <td>90.0000</td>\n",
       "      <td>80.0000</td>\n",
       "      <td>130.0000</td>\n",
       "      <td>109.0000</td>\n",
       "      <td>nan</td>\n",
       "      <td>...</td>\n",
       "      <td>65.0000</td>\n",
       "      <td>8.0000</td>\n",
       "      <td>97.0000</td>\n",
       "      <td>nan</td>\n",
       "      <td>5.0000</td>\n",
       "      <td>False</td>\n",
       "      <td>False</td>\n",
       "      <td>False</td>\n",
       "      <td>False</td>\n",
       "      <td>False</td>\n",
       "    </tr>\n",
       "    <tr>\n",
       "      <th>2012-01-01 09:00:00</th>\n",
       "      <td>NaT</td>\n",
       "      <td>240.0000</td>\n",
       "      <td>2012-01-01</td>\n",
       "      <td>9.0000</td>\n",
       "      <td>230.0000</td>\n",
       "      <td>80.0000</td>\n",
       "      <td>80.0000</td>\n",
       "      <td>120.0000</td>\n",
       "      <td>112.0000</td>\n",
       "      <td>nan</td>\n",
       "      <td>...</td>\n",
       "      <td>65.0000</td>\n",
       "      <td>6.0000</td>\n",
       "      <td>94.0000</td>\n",
       "      <td>nan</td>\n",
       "      <td>5.0000</td>\n",
       "      <td>False</td>\n",
       "      <td>False</td>\n",
       "      <td>False</td>\n",
       "      <td>False</td>\n",
       "      <td>False</td>\n",
       "    </tr>\n",
       "    <tr>\n",
       "      <th>2012-01-01 10:00:00</th>\n",
       "      <td>NaT</td>\n",
       "      <td>240.0000</td>\n",
       "      <td>2012-01-01</td>\n",
       "      <td>10.0000</td>\n",
       "      <td>220.0000</td>\n",
       "      <td>70.0000</td>\n",
       "      <td>60.0000</td>\n",
       "      <td>90.0000</td>\n",
       "      <td>112.0000</td>\n",
       "      <td>nan</td>\n",
       "      <td>...</td>\n",
       "      <td>65.0000</td>\n",
       "      <td>8.0000</td>\n",
       "      <td>94.0000</td>\n",
       "      <td>nan</td>\n",
       "      <td>5.0000</td>\n",
       "      <td>False</td>\n",
       "      <td>False</td>\n",
       "      <td>False</td>\n",
       "      <td>False</td>\n",
       "      <td>False</td>\n",
       "    </tr>\n",
       "    <tr>\n",
       "      <th>2012-01-01 11:00:00</th>\n",
       "      <td>NaT</td>\n",
       "      <td>240.0000</td>\n",
       "      <td>2012-01-01</td>\n",
       "      <td>11.0000</td>\n",
       "      <td>220.0000</td>\n",
       "      <td>60.0000</td>\n",
       "      <td>80.0000</td>\n",
       "      <td>100.0000</td>\n",
       "      <td>115.0000</td>\n",
       "      <td>nan</td>\n",
       "      <td>...</td>\n",
       "      <td>65.0000</td>\n",
       "      <td>7.0000</td>\n",
       "      <td>95.0000</td>\n",
       "      <td>nan</td>\n",
       "      <td>5.0000</td>\n",
       "      <td>False</td>\n",
       "      <td>False</td>\n",
       "      <td>False</td>\n",
       "      <td>False</td>\n",
       "      <td>False</td>\n",
       "    </tr>\n",
       "    <tr>\n",
       "      <th>2012-01-01 12:00:00</th>\n",
       "      <td>2012-01-01 12:27:00</td>\n",
       "      <td>240.0000</td>\n",
       "      <td>2012-01-01</td>\n",
       "      <td>12.0000</td>\n",
       "      <td>230.0000</td>\n",
       "      <td>80.0000</td>\n",
       "      <td>100.0000</td>\n",
       "      <td>130.0000</td>\n",
       "      <td>118.0000</td>\n",
       "      <td>104.0000</td>\n",
       "      <td>...</td>\n",
       "      <td>65.0000</td>\n",
       "      <td>8.0000</td>\n",
       "      <td>94.0000</td>\n",
       "      <td>23.0000</td>\n",
       "      <td>7.0000</td>\n",
       "      <td>False</td>\n",
       "      <td>True</td>\n",
       "      <td>False</td>\n",
       "      <td>False</td>\n",
       "      <td>False</td>\n",
       "    </tr>\n",
       "    <tr>\n",
       "      <th>2012-01-01 13:00:00</th>\n",
       "      <td>NaT</td>\n",
       "      <td>240.0000</td>\n",
       "      <td>2012-01-01</td>\n",
       "      <td>13.0000</td>\n",
       "      <td>230.0000</td>\n",
       "      <td>90.0000</td>\n",
       "      <td>80.0000</td>\n",
       "      <td>130.0000</td>\n",
       "      <td>120.0000</td>\n",
       "      <td>nan</td>\n",
       "      <td>...</td>\n",
       "      <td>65.0000</td>\n",
       "      <td>8.0000</td>\n",
       "      <td>92.0000</td>\n",
       "      <td>nan</td>\n",
       "      <td>5.0000</td>\n",
       "      <td>False</td>\n",
       "      <td>False</td>\n",
       "      <td>False</td>\n",
       "      <td>False</td>\n",
       "      <td>False</td>\n",
       "    </tr>\n",
       "    <tr>\n",
       "      <th>2012-01-01 14:00:00</th>\n",
       "      <td>NaT</td>\n",
       "      <td>240.0000</td>\n",
       "      <td>2012-01-01</td>\n",
       "      <td>14.0000</td>\n",
       "      <td>220.0000</td>\n",
       "      <td>90.0000</td>\n",
       "      <td>90.0000</td>\n",
       "      <td>120.0000</td>\n",
       "      <td>122.0000</td>\n",
       "      <td>nan</td>\n",
       "      <td>...</td>\n",
       "      <td>65.0000</td>\n",
       "      <td>8.0000</td>\n",
       "      <td>91.0000</td>\n",
       "      <td>81.0000</td>\n",
       "      <td>7.0000</td>\n",
       "      <td>False</td>\n",
       "      <td>True</td>\n",
       "      <td>False</td>\n",
       "      <td>False</td>\n",
       "      <td>False</td>\n",
       "    </tr>\n",
       "    <tr>\n",
       "      <th>2012-01-01 15:00:00</th>\n",
       "      <td>NaT</td>\n",
       "      <td>240.0000</td>\n",
       "      <td>2012-01-01</td>\n",
       "      <td>15.0000</td>\n",
       "      <td>210.0000</td>\n",
       "      <td>70.0000</td>\n",
       "      <td>60.0000</td>\n",
       "      <td>100.0000</td>\n",
       "      <td>118.0000</td>\n",
       "      <td>nan</td>\n",
       "      <td>...</td>\n",
       "      <td>65.0000</td>\n",
       "      <td>8.0000</td>\n",
       "      <td>94.0000</td>\n",
       "      <td>23.0000</td>\n",
       "      <td>7.0000</td>\n",
       "      <td>False</td>\n",
       "      <td>True</td>\n",
       "      <td>False</td>\n",
       "      <td>False</td>\n",
       "      <td>False</td>\n",
       "    </tr>\n",
       "    <tr>\n",
       "      <th>2012-01-01 16:00:00</th>\n",
       "      <td>2012-01-01 16:28:00</td>\n",
       "      <td>240.0000</td>\n",
       "      <td>2012-01-01</td>\n",
       "      <td>16.0000</td>\n",
       "      <td>190.0000</td>\n",
       "      <td>50.0000</td>\n",
       "      <td>40.0000</td>\n",
       "      <td>90.0000</td>\n",
       "      <td>116.0000</td>\n",
       "      <td>nan</td>\n",
       "      <td>...</td>\n",
       "      <td>39.0000</td>\n",
       "      <td>8.0000</td>\n",
       "      <td>98.0000</td>\n",
       "      <td>82.0000</td>\n",
       "      <td>7.0000</td>\n",
       "      <td>False</td>\n",
       "      <td>True</td>\n",
       "      <td>False</td>\n",
       "      <td>False</td>\n",
       "      <td>False</td>\n",
       "    </tr>\n",
       "    <tr>\n",
       "      <th>2012-01-01 16:00:00</th>\n",
       "      <td>2012-01-01 16:11:00</td>\n",
       "      <td>240.0000</td>\n",
       "      <td>2012-01-01</td>\n",
       "      <td>16.0000</td>\n",
       "      <td>190.0000</td>\n",
       "      <td>50.0000</td>\n",
       "      <td>40.0000</td>\n",
       "      <td>90.0000</td>\n",
       "      <td>116.0000</td>\n",
       "      <td>nan</td>\n",
       "      <td>...</td>\n",
       "      <td>39.0000</td>\n",
       "      <td>8.0000</td>\n",
       "      <td>98.0000</td>\n",
       "      <td>82.0000</td>\n",
       "      <td>7.0000</td>\n",
       "      <td>False</td>\n",
       "      <td>True</td>\n",
       "      <td>False</td>\n",
       "      <td>False</td>\n",
       "      <td>False</td>\n",
       "    </tr>\n",
       "    <tr>\n",
       "      <th>2012-01-01 17:00:00</th>\n",
       "      <td>NaT</td>\n",
       "      <td>240.0000</td>\n",
       "      <td>2012-01-01</td>\n",
       "      <td>17.0000</td>\n",
       "      <td>190.0000</td>\n",
       "      <td>50.0000</td>\n",
       "      <td>70.0000</td>\n",
       "      <td>100.0000</td>\n",
       "      <td>121.0000</td>\n",
       "      <td>nan</td>\n",
       "      <td>...</td>\n",
       "      <td>57.0000</td>\n",
       "      <td>8.0000</td>\n",
       "      <td>98.0000</td>\n",
       "      <td>62.0000</td>\n",
       "      <td>7.0000</td>\n",
       "      <td>False</td>\n",
       "      <td>True</td>\n",
       "      <td>False</td>\n",
       "      <td>False</td>\n",
       "      <td>False</td>\n",
       "    </tr>\n",
       "    <tr>\n",
       "      <th>2012-01-01 18:00:00</th>\n",
       "      <td>NaT</td>\n",
       "      <td>240.0000</td>\n",
       "      <td>2012-01-01</td>\n",
       "      <td>18.0000</td>\n",
       "      <td>200.0000</td>\n",
       "      <td>80.0000</td>\n",
       "      <td>90.0000</td>\n",
       "      <td>130.0000</td>\n",
       "      <td>124.0000</td>\n",
       "      <td>113.0000</td>\n",
       "      <td>...</td>\n",
       "      <td>58.0000</td>\n",
       "      <td>8.0000</td>\n",
       "      <td>97.0000</td>\n",
       "      <td>62.0000</td>\n",
       "      <td>7.0000</td>\n",
       "      <td>False</td>\n",
       "      <td>True</td>\n",
       "      <td>False</td>\n",
       "      <td>False</td>\n",
       "      <td>False</td>\n",
       "    </tr>\n",
       "    <tr>\n",
       "      <th>2012-01-01 19:00:00</th>\n",
       "      <td>NaT</td>\n",
       "      <td>240.0000</td>\n",
       "      <td>2012-01-01</td>\n",
       "      <td>19.0000</td>\n",
       "      <td>200.0000</td>\n",
       "      <td>90.0000</td>\n",
       "      <td>90.0000</td>\n",
       "      <td>140.0000</td>\n",
       "      <td>125.0000</td>\n",
       "      <td>nan</td>\n",
       "      <td>...</td>\n",
       "      <td>58.0000</td>\n",
       "      <td>8.0000</td>\n",
       "      <td>96.0000</td>\n",
       "      <td>62.0000</td>\n",
       "      <td>7.0000</td>\n",
       "      <td>False</td>\n",
       "      <td>True</td>\n",
       "      <td>False</td>\n",
       "      <td>False</td>\n",
       "      <td>False</td>\n",
       "    </tr>\n",
       "    <tr>\n",
       "      <th>2012-01-01 20:00:00</th>\n",
       "      <td>NaT</td>\n",
       "      <td>240.0000</td>\n",
       "      <td>2012-01-01</td>\n",
       "      <td>20.0000</td>\n",
       "      <td>210.0000</td>\n",
       "      <td>110.0000</td>\n",
       "      <td>120.0000</td>\n",
       "      <td>170.0000</td>\n",
       "      <td>126.0000</td>\n",
       "      <td>nan</td>\n",
       "      <td>...</td>\n",
       "      <td>60.0000</td>\n",
       "      <td>8.0000</td>\n",
       "      <td>95.0000</td>\n",
       "      <td>61.0000</td>\n",
       "      <td>7.0000</td>\n",
       "      <td>False</td>\n",
       "      <td>True</td>\n",
       "      <td>False</td>\n",
       "      <td>False</td>\n",
       "      <td>False</td>\n",
       "    </tr>\n",
       "    <tr>\n",
       "      <th>2012-01-01 21:00:00</th>\n",
       "      <td>NaT</td>\n",
       "      <td>240.0000</td>\n",
       "      <td>2012-01-01</td>\n",
       "      <td>21.0000</td>\n",
       "      <td>230.0000</td>\n",
       "      <td>80.0000</td>\n",
       "      <td>60.0000</td>\n",
       "      <td>160.0000</td>\n",
       "      <td>108.0000</td>\n",
       "      <td>nan</td>\n",
       "      <td>...</td>\n",
       "      <td>61.0000</td>\n",
       "      <td>8.0000</td>\n",
       "      <td>96.0000</td>\n",
       "      <td>61.0000</td>\n",
       "      <td>7.0000</td>\n",
       "      <td>False</td>\n",
       "      <td>True</td>\n",
       "      <td>False</td>\n",
       "      <td>False</td>\n",
       "      <td>False</td>\n",
       "    </tr>\n",
       "    <tr>\n",
       "      <th>2012-01-01 22:00:00</th>\n",
       "      <td>NaT</td>\n",
       "      <td>240.0000</td>\n",
       "      <td>2012-01-01</td>\n",
       "      <td>22.0000</td>\n",
       "      <td>260.0000</td>\n",
       "      <td>80.0000</td>\n",
       "      <td>70.0000</td>\n",
       "      <td>130.0000</td>\n",
       "      <td>101.0000</td>\n",
       "      <td>nan</td>\n",
       "      <td>...</td>\n",
       "      <td>65.0000</td>\n",
       "      <td>8.0000</td>\n",
       "      <td>95.0000</td>\n",
       "      <td>57.0000</td>\n",
       "      <td>7.0000</td>\n",
       "      <td>False</td>\n",
       "      <td>True</td>\n",
       "      <td>False</td>\n",
       "      <td>False</td>\n",
       "      <td>False</td>\n",
       "    </tr>\n",
       "    <tr>\n",
       "      <th>2012-01-01 23:00:00</th>\n",
       "      <td>NaT</td>\n",
       "      <td>240.0000</td>\n",
       "      <td>2012-01-01</td>\n",
       "      <td>23.0000</td>\n",
       "      <td>250.0000</td>\n",
       "      <td>60.0000</td>\n",
       "      <td>60.0000</td>\n",
       "      <td>100.0000</td>\n",
       "      <td>99.0000</td>\n",
       "      <td>nan</td>\n",
       "      <td>...</td>\n",
       "      <td>65.0000</td>\n",
       "      <td>8.0000</td>\n",
       "      <td>93.0000</td>\n",
       "      <td>57.0000</td>\n",
       "      <td>7.0000</td>\n",
       "      <td>False</td>\n",
       "      <td>True</td>\n",
       "      <td>False</td>\n",
       "      <td>False</td>\n",
       "      <td>False</td>\n",
       "    </tr>\n",
       "    <tr>\n",
       "      <th>2012-01-02 00:00:00</th>\n",
       "      <td>NaT</td>\n",
       "      <td>240.0000</td>\n",
       "      <td>2012-01-01</td>\n",
       "      <td>24.0000</td>\n",
       "      <td>250.0000</td>\n",
       "      <td>80.0000</td>\n",
       "      <td>80.0000</td>\n",
       "      <td>120.0000</td>\n",
       "      <td>100.0000</td>\n",
       "      <td>94.0000</td>\n",
       "      <td>...</td>\n",
       "      <td>65.0000</td>\n",
       "      <td>8.0000</td>\n",
       "      <td>93.0000</td>\n",
       "      <td>23.0000</td>\n",
       "      <td>7.0000</td>\n",
       "      <td>False</td>\n",
       "      <td>True</td>\n",
       "      <td>False</td>\n",
       "      <td>False</td>\n",
       "      <td>False</td>\n",
       "    </tr>\n",
       "    <tr>\n",
       "      <th>2012-01-02 01:00:00</th>\n",
       "      <td>NaT</td>\n",
       "      <td>240.0000</td>\n",
       "      <td>2012-01-02</td>\n",
       "      <td>1.0000</td>\n",
       "      <td>240.0000</td>\n",
       "      <td>80.0000</td>\n",
       "      <td>80.0000</td>\n",
       "      <td>110.0000</td>\n",
       "      <td>100.0000</td>\n",
       "      <td>nan</td>\n",
       "      <td>...</td>\n",
       "      <td>65.0000</td>\n",
       "      <td>8.0000</td>\n",
       "      <td>95.0000</td>\n",
       "      <td>nan</td>\n",
       "      <td>5.0000</td>\n",
       "      <td>False</td>\n",
       "      <td>False</td>\n",
       "      <td>False</td>\n",
       "      <td>False</td>\n",
       "      <td>False</td>\n",
       "    </tr>\n",
       "    <tr>\n",
       "      <th>2012-01-02 02:00:00</th>\n",
       "      <td>NaT</td>\n",
       "      <td>240.0000</td>\n",
       "      <td>2012-01-02</td>\n",
       "      <td>2.0000</td>\n",
       "      <td>250.0000</td>\n",
       "      <td>80.0000</td>\n",
       "      <td>80.0000</td>\n",
       "      <td>120.0000</td>\n",
       "      <td>99.0000</td>\n",
       "      <td>nan</td>\n",
       "      <td>...</td>\n",
       "      <td>65.0000</td>\n",
       "      <td>8.0000</td>\n",
       "      <td>92.0000</td>\n",
       "      <td>nan</td>\n",
       "      <td>5.0000</td>\n",
       "      <td>False</td>\n",
       "      <td>False</td>\n",
       "      <td>False</td>\n",
       "      <td>False</td>\n",
       "      <td>False</td>\n",
       "    </tr>\n",
       "    <tr>\n",
       "      <th>2012-01-02 03:00:00</th>\n",
       "      <td>NaT</td>\n",
       "      <td>240.0000</td>\n",
       "      <td>2012-01-02</td>\n",
       "      <td>3.0000</td>\n",
       "      <td>250.0000</td>\n",
       "      <td>70.0000</td>\n",
       "      <td>70.0000</td>\n",
       "      <td>110.0000</td>\n",
       "      <td>93.0000</td>\n",
       "      <td>nan</td>\n",
       "      <td>...</td>\n",
       "      <td>65.0000</td>\n",
       "      <td>8.0000</td>\n",
       "      <td>92.0000</td>\n",
       "      <td>nan</td>\n",
       "      <td>5.0000</td>\n",
       "      <td>False</td>\n",
       "      <td>False</td>\n",
       "      <td>False</td>\n",
       "      <td>False</td>\n",
       "      <td>False</td>\n",
       "    </tr>\n",
       "    <tr>\n",
       "      <th>2012-01-02 04:00:00</th>\n",
       "      <td>NaT</td>\n",
       "      <td>240.0000</td>\n",
       "      <td>2012-01-02</td>\n",
       "      <td>4.0000</td>\n",
       "      <td>250.0000</td>\n",
       "      <td>70.0000</td>\n",
       "      <td>70.0000</td>\n",
       "      <td>100.0000</td>\n",
       "      <td>89.0000</td>\n",
       "      <td>nan</td>\n",
       "      <td>...</td>\n",
       "      <td>67.0000</td>\n",
       "      <td>7.0000</td>\n",
       "      <td>90.0000</td>\n",
       "      <td>nan</td>\n",
       "      <td>5.0000</td>\n",
       "      <td>False</td>\n",
       "      <td>False</td>\n",
       "      <td>False</td>\n",
       "      <td>False</td>\n",
       "      <td>False</td>\n",
       "    </tr>\n",
       "    <tr>\n",
       "      <th>2012-01-02 05:00:00</th>\n",
       "      <td>2012-01-02 05:52:00</td>\n",
       "      <td>240.0000</td>\n",
       "      <td>2012-01-02</td>\n",
       "      <td>5.0000</td>\n",
       "      <td>250.0000</td>\n",
       "      <td>60.0000</td>\n",
       "      <td>50.0000</td>\n",
       "      <td>100.0000</td>\n",
       "      <td>84.0000</td>\n",
       "      <td>nan</td>\n",
       "      <td>...</td>\n",
       "      <td>66.0000</td>\n",
       "      <td>8.0000</td>\n",
       "      <td>90.0000</td>\n",
       "      <td>nan</td>\n",
       "      <td>5.0000</td>\n",
       "      <td>False</td>\n",
       "      <td>False</td>\n",
       "      <td>False</td>\n",
       "      <td>False</td>\n",
       "      <td>False</td>\n",
       "    </tr>\n",
       "    <tr>\n",
       "      <th>...</th>\n",
       "      <td>...</td>\n",
       "      <td>...</td>\n",
       "      <td>...</td>\n",
       "      <td>...</td>\n",
       "      <td>...</td>\n",
       "      <td>...</td>\n",
       "      <td>...</td>\n",
       "      <td>...</td>\n",
       "      <td>...</td>\n",
       "      <td>...</td>\n",
       "      <td>...</td>\n",
       "      <td>...</td>\n",
       "      <td>...</td>\n",
       "      <td>...</td>\n",
       "      <td>...</td>\n",
       "      <td>...</td>\n",
       "      <td>...</td>\n",
       "      <td>...</td>\n",
       "      <td>...</td>\n",
       "      <td>...</td>\n",
       "      <td>...</td>\n",
       "    </tr>\n",
       "    <tr>\n",
       "      <th>2018-04-15 19:00:00</th>\n",
       "      <td>NaT</td>\n",
       "      <td>240.0000</td>\n",
       "      <td>2018-04-15</td>\n",
       "      <td>19.0000</td>\n",
       "      <td>170.0000</td>\n",
       "      <td>10.0000</td>\n",
       "      <td>10.0000</td>\n",
       "      <td>20.0000</td>\n",
       "      <td>134.0000</td>\n",
       "      <td>nan</td>\n",
       "      <td>...</td>\n",
       "      <td>60.0000</td>\n",
       "      <td>8.0000</td>\n",
       "      <td>89.0000</td>\n",
       "      <td>nan</td>\n",
       "      <td>5.0000</td>\n",
       "      <td>False</td>\n",
       "      <td>False</td>\n",
       "      <td>False</td>\n",
       "      <td>False</td>\n",
       "      <td>False</td>\n",
       "    </tr>\n",
       "    <tr>\n",
       "      <th>2018-04-15 20:00:00</th>\n",
       "      <td>NaT</td>\n",
       "      <td>240.0000</td>\n",
       "      <td>2018-04-15</td>\n",
       "      <td>20.0000</td>\n",
       "      <td>140.0000</td>\n",
       "      <td>10.0000</td>\n",
       "      <td>20.0000</td>\n",
       "      <td>20.0000</td>\n",
       "      <td>126.0000</td>\n",
       "      <td>nan</td>\n",
       "      <td>...</td>\n",
       "      <td>57.0000</td>\n",
       "      <td>8.0000</td>\n",
       "      <td>94.0000</td>\n",
       "      <td>10.0000</td>\n",
       "      <td>7.0000</td>\n",
       "      <td>False</td>\n",
       "      <td>False</td>\n",
       "      <td>False</td>\n",
       "      <td>False</td>\n",
       "      <td>False</td>\n",
       "    </tr>\n",
       "    <tr>\n",
       "      <th>2018-04-15 21:00:00</th>\n",
       "      <td>NaT</td>\n",
       "      <td>240.0000</td>\n",
       "      <td>2018-04-15</td>\n",
       "      <td>21.0000</td>\n",
       "      <td>140.0000</td>\n",
       "      <td>10.0000</td>\n",
       "      <td>20.0000</td>\n",
       "      <td>30.0000</td>\n",
       "      <td>123.0000</td>\n",
       "      <td>nan</td>\n",
       "      <td>...</td>\n",
       "      <td>61.0000</td>\n",
       "      <td>8.0000</td>\n",
       "      <td>93.0000</td>\n",
       "      <td>57.0000</td>\n",
       "      <td>7.0000</td>\n",
       "      <td>False</td>\n",
       "      <td>True</td>\n",
       "      <td>False</td>\n",
       "      <td>False</td>\n",
       "      <td>False</td>\n",
       "    </tr>\n",
       "    <tr>\n",
       "      <th>2018-04-15 22:00:00</th>\n",
       "      <td>NaT</td>\n",
       "      <td>240.0000</td>\n",
       "      <td>2018-04-15</td>\n",
       "      <td>22.0000</td>\n",
       "      <td>170.0000</td>\n",
       "      <td>30.0000</td>\n",
       "      <td>30.0000</td>\n",
       "      <td>40.0000</td>\n",
       "      <td>131.0000</td>\n",
       "      <td>nan</td>\n",
       "      <td>...</td>\n",
       "      <td>65.0000</td>\n",
       "      <td>8.0000</td>\n",
       "      <td>88.0000</td>\n",
       "      <td>81.0000</td>\n",
       "      <td>7.0000</td>\n",
       "      <td>False</td>\n",
       "      <td>True</td>\n",
       "      <td>False</td>\n",
       "      <td>False</td>\n",
       "      <td>False</td>\n",
       "    </tr>\n",
       "    <tr>\n",
       "      <th>2018-04-15 23:00:00</th>\n",
       "      <td>NaT</td>\n",
       "      <td>240.0000</td>\n",
       "      <td>2018-04-15</td>\n",
       "      <td>23.0000</td>\n",
       "      <td>180.0000</td>\n",
       "      <td>30.0000</td>\n",
       "      <td>40.0000</td>\n",
       "      <td>50.0000</td>\n",
       "      <td>128.0000</td>\n",
       "      <td>nan</td>\n",
       "      <td>...</td>\n",
       "      <td>67.0000</td>\n",
       "      <td>8.0000</td>\n",
       "      <td>86.0000</td>\n",
       "      <td>23.0000</td>\n",
       "      <td>7.0000</td>\n",
       "      <td>False</td>\n",
       "      <td>True</td>\n",
       "      <td>False</td>\n",
       "      <td>False</td>\n",
       "      <td>False</td>\n",
       "    </tr>\n",
       "    <tr>\n",
       "      <th>2018-04-16 00:00:00</th>\n",
       "      <td>NaT</td>\n",
       "      <td>240.0000</td>\n",
       "      <td>2018-04-15</td>\n",
       "      <td>24.0000</td>\n",
       "      <td>260.0000</td>\n",
       "      <td>50.0000</td>\n",
       "      <td>40.0000</td>\n",
       "      <td>90.0000</td>\n",
       "      <td>118.0000</td>\n",
       "      <td>109.0000</td>\n",
       "      <td>...</td>\n",
       "      <td>70.0000</td>\n",
       "      <td>8.0000</td>\n",
       "      <td>86.0000</td>\n",
       "      <td>2.0000</td>\n",
       "      <td>7.0000</td>\n",
       "      <td>False</td>\n",
       "      <td>False</td>\n",
       "      <td>False</td>\n",
       "      <td>False</td>\n",
       "      <td>False</td>\n",
       "    </tr>\n",
       "    <tr>\n",
       "      <th>2018-04-16 01:00:00</th>\n",
       "      <td>NaT</td>\n",
       "      <td>240.0000</td>\n",
       "      <td>2018-04-16</td>\n",
       "      <td>1.0000</td>\n",
       "      <td>180.0000</td>\n",
       "      <td>30.0000</td>\n",
       "      <td>20.0000</td>\n",
       "      <td>60.0000</td>\n",
       "      <td>111.0000</td>\n",
       "      <td>nan</td>\n",
       "      <td>...</td>\n",
       "      <td>70.0000</td>\n",
       "      <td>8.0000</td>\n",
       "      <td>89.0000</td>\n",
       "      <td>23.0000</td>\n",
       "      <td>7.0000</td>\n",
       "      <td>False</td>\n",
       "      <td>True</td>\n",
       "      <td>False</td>\n",
       "      <td>False</td>\n",
       "      <td>False</td>\n",
       "    </tr>\n",
       "    <tr>\n",
       "      <th>2018-04-16 02:00:00</th>\n",
       "      <td>NaT</td>\n",
       "      <td>240.0000</td>\n",
       "      <td>2018-04-16</td>\n",
       "      <td>2.0000</td>\n",
       "      <td>180.0000</td>\n",
       "      <td>20.0000</td>\n",
       "      <td>20.0000</td>\n",
       "      <td>40.0000</td>\n",
       "      <td>107.0000</td>\n",
       "      <td>nan</td>\n",
       "      <td>...</td>\n",
       "      <td>63.0000</td>\n",
       "      <td>7.0000</td>\n",
       "      <td>94.0000</td>\n",
       "      <td>23.0000</td>\n",
       "      <td>7.0000</td>\n",
       "      <td>False</td>\n",
       "      <td>True</td>\n",
       "      <td>False</td>\n",
       "      <td>False</td>\n",
       "      <td>False</td>\n",
       "    </tr>\n",
       "    <tr>\n",
       "      <th>2018-04-16 03:00:00</th>\n",
       "      <td>NaT</td>\n",
       "      <td>240.0000</td>\n",
       "      <td>2018-04-16</td>\n",
       "      <td>3.0000</td>\n",
       "      <td>190.0000</td>\n",
       "      <td>20.0000</td>\n",
       "      <td>30.0000</td>\n",
       "      <td>40.0000</td>\n",
       "      <td>93.0000</td>\n",
       "      <td>nan</td>\n",
       "      <td>...</td>\n",
       "      <td>58.0000</td>\n",
       "      <td>0.0000</td>\n",
       "      <td>95.0000</td>\n",
       "      <td>10.0000</td>\n",
       "      <td>7.0000</td>\n",
       "      <td>False</td>\n",
       "      <td>False</td>\n",
       "      <td>False</td>\n",
       "      <td>False</td>\n",
       "      <td>False</td>\n",
       "    </tr>\n",
       "    <tr>\n",
       "      <th>2018-04-16 04:00:00</th>\n",
       "      <td>NaT</td>\n",
       "      <td>240.0000</td>\n",
       "      <td>2018-04-16</td>\n",
       "      <td>4.0000</td>\n",
       "      <td>200.0000</td>\n",
       "      <td>30.0000</td>\n",
       "      <td>30.0000</td>\n",
       "      <td>40.0000</td>\n",
       "      <td>92.0000</td>\n",
       "      <td>nan</td>\n",
       "      <td>...</td>\n",
       "      <td>59.0000</td>\n",
       "      <td>8.0000</td>\n",
       "      <td>95.0000</td>\n",
       "      <td>10.0000</td>\n",
       "      <td>7.0000</td>\n",
       "      <td>False</td>\n",
       "      <td>False</td>\n",
       "      <td>False</td>\n",
       "      <td>False</td>\n",
       "      <td>False</td>\n",
       "    </tr>\n",
       "    <tr>\n",
       "      <th>2018-04-16 05:00:00</th>\n",
       "      <td>NaT</td>\n",
       "      <td>240.0000</td>\n",
       "      <td>2018-04-16</td>\n",
       "      <td>5.0000</td>\n",
       "      <td>210.0000</td>\n",
       "      <td>30.0000</td>\n",
       "      <td>30.0000</td>\n",
       "      <td>40.0000</td>\n",
       "      <td>86.0000</td>\n",
       "      <td>nan</td>\n",
       "      <td>...</td>\n",
       "      <td>58.0000</td>\n",
       "      <td>6.0000</td>\n",
       "      <td>96.0000</td>\n",
       "      <td>10.0000</td>\n",
       "      <td>7.0000</td>\n",
       "      <td>False</td>\n",
       "      <td>False</td>\n",
       "      <td>False</td>\n",
       "      <td>False</td>\n",
       "      <td>False</td>\n",
       "    </tr>\n",
       "    <tr>\n",
       "      <th>2018-04-16 06:00:00</th>\n",
       "      <td>NaT</td>\n",
       "      <td>240.0000</td>\n",
       "      <td>2018-04-16</td>\n",
       "      <td>6.0000</td>\n",
       "      <td>220.0000</td>\n",
       "      <td>30.0000</td>\n",
       "      <td>30.0000</td>\n",
       "      <td>50.0000</td>\n",
       "      <td>103.0000</td>\n",
       "      <td>70.0000</td>\n",
       "      <td>...</td>\n",
       "      <td>59.0000</td>\n",
       "      <td>4.0000</td>\n",
       "      <td>92.0000</td>\n",
       "      <td>10.0000</td>\n",
       "      <td>7.0000</td>\n",
       "      <td>False</td>\n",
       "      <td>False</td>\n",
       "      <td>False</td>\n",
       "      <td>False</td>\n",
       "      <td>False</td>\n",
       "    </tr>\n",
       "    <tr>\n",
       "      <th>2018-04-16 07:00:00</th>\n",
       "      <td>NaT</td>\n",
       "      <td>240.0000</td>\n",
       "      <td>2018-04-16</td>\n",
       "      <td>7.0000</td>\n",
       "      <td>240.0000</td>\n",
       "      <td>50.0000</td>\n",
       "      <td>50.0000</td>\n",
       "      <td>80.0000</td>\n",
       "      <td>106.0000</td>\n",
       "      <td>nan</td>\n",
       "      <td>...</td>\n",
       "      <td>63.0000</td>\n",
       "      <td>8.0000</td>\n",
       "      <td>87.0000</td>\n",
       "      <td>nan</td>\n",
       "      <td>5.0000</td>\n",
       "      <td>False</td>\n",
       "      <td>False</td>\n",
       "      <td>False</td>\n",
       "      <td>False</td>\n",
       "      <td>False</td>\n",
       "    </tr>\n",
       "    <tr>\n",
       "      <th>2018-04-16 08:00:00</th>\n",
       "      <td>NaT</td>\n",
       "      <td>240.0000</td>\n",
       "      <td>2018-04-16</td>\n",
       "      <td>8.0000</td>\n",
       "      <td>230.0000</td>\n",
       "      <td>50.0000</td>\n",
       "      <td>50.0000</td>\n",
       "      <td>80.0000</td>\n",
       "      <td>124.0000</td>\n",
       "      <td>nan</td>\n",
       "      <td>...</td>\n",
       "      <td>68.0000</td>\n",
       "      <td>8.0000</td>\n",
       "      <td>78.0000</td>\n",
       "      <td>nan</td>\n",
       "      <td>5.0000</td>\n",
       "      <td>False</td>\n",
       "      <td>False</td>\n",
       "      <td>False</td>\n",
       "      <td>False</td>\n",
       "      <td>False</td>\n",
       "    </tr>\n",
       "    <tr>\n",
       "      <th>2018-04-16 09:00:00</th>\n",
       "      <td>NaT</td>\n",
       "      <td>240.0000</td>\n",
       "      <td>2018-04-16</td>\n",
       "      <td>9.0000</td>\n",
       "      <td>250.0000</td>\n",
       "      <td>60.0000</td>\n",
       "      <td>70.0000</td>\n",
       "      <td>90.0000</td>\n",
       "      <td>134.0000</td>\n",
       "      <td>nan</td>\n",
       "      <td>...</td>\n",
       "      <td>70.0000</td>\n",
       "      <td>8.0000</td>\n",
       "      <td>68.0000</td>\n",
       "      <td>nan</td>\n",
       "      <td>5.0000</td>\n",
       "      <td>False</td>\n",
       "      <td>False</td>\n",
       "      <td>False</td>\n",
       "      <td>False</td>\n",
       "      <td>False</td>\n",
       "    </tr>\n",
       "    <tr>\n",
       "      <th>2018-04-16 10:00:00</th>\n",
       "      <td>NaT</td>\n",
       "      <td>240.0000</td>\n",
       "      <td>2018-04-16</td>\n",
       "      <td>10.0000</td>\n",
       "      <td>240.0000</td>\n",
       "      <td>70.0000</td>\n",
       "      <td>60.0000</td>\n",
       "      <td>100.0000</td>\n",
       "      <td>136.0000</td>\n",
       "      <td>nan</td>\n",
       "      <td>...</td>\n",
       "      <td>67.0000</td>\n",
       "      <td>4.0000</td>\n",
       "      <td>68.0000</td>\n",
       "      <td>nan</td>\n",
       "      <td>5.0000</td>\n",
       "      <td>False</td>\n",
       "      <td>False</td>\n",
       "      <td>False</td>\n",
       "      <td>False</td>\n",
       "      <td>False</td>\n",
       "    </tr>\n",
       "    <tr>\n",
       "      <th>2018-04-16 11:00:00</th>\n",
       "      <td>NaT</td>\n",
       "      <td>240.0000</td>\n",
       "      <td>2018-04-16</td>\n",
       "      <td>11.0000</td>\n",
       "      <td>260.0000</td>\n",
       "      <td>70.0000</td>\n",
       "      <td>70.0000</td>\n",
       "      <td>100.0000</td>\n",
       "      <td>138.0000</td>\n",
       "      <td>nan</td>\n",
       "      <td>...</td>\n",
       "      <td>67.0000</td>\n",
       "      <td>8.0000</td>\n",
       "      <td>68.0000</td>\n",
       "      <td>nan</td>\n",
       "      <td>5.0000</td>\n",
       "      <td>False</td>\n",
       "      <td>False</td>\n",
       "      <td>False</td>\n",
       "      <td>False</td>\n",
       "      <td>False</td>\n",
       "    </tr>\n",
       "    <tr>\n",
       "      <th>2018-04-16 12:00:00</th>\n",
       "      <td>NaT</td>\n",
       "      <td>240.0000</td>\n",
       "      <td>2018-04-16</td>\n",
       "      <td>12.0000</td>\n",
       "      <td>240.0000</td>\n",
       "      <td>70.0000</td>\n",
       "      <td>70.0000</td>\n",
       "      <td>110.0000</td>\n",
       "      <td>141.0000</td>\n",
       "      <td>97.0000</td>\n",
       "      <td>...</td>\n",
       "      <td>65.0000</td>\n",
       "      <td>1.0000</td>\n",
       "      <td>67.0000</td>\n",
       "      <td>nan</td>\n",
       "      <td>7.0000</td>\n",
       "      <td>False</td>\n",
       "      <td>False</td>\n",
       "      <td>False</td>\n",
       "      <td>False</td>\n",
       "      <td>False</td>\n",
       "    </tr>\n",
       "    <tr>\n",
       "      <th>2018-04-16 13:00:00</th>\n",
       "      <td>NaT</td>\n",
       "      <td>240.0000</td>\n",
       "      <td>2018-04-16</td>\n",
       "      <td>13.0000</td>\n",
       "      <td>250.0000</td>\n",
       "      <td>70.0000</td>\n",
       "      <td>70.0000</td>\n",
       "      <td>120.0000</td>\n",
       "      <td>139.0000</td>\n",
       "      <td>nan</td>\n",
       "      <td>...</td>\n",
       "      <td>73.0000</td>\n",
       "      <td>4.0000</td>\n",
       "      <td>66.0000</td>\n",
       "      <td>nan</td>\n",
       "      <td>5.0000</td>\n",
       "      <td>False</td>\n",
       "      <td>False</td>\n",
       "      <td>False</td>\n",
       "      <td>False</td>\n",
       "      <td>False</td>\n",
       "    </tr>\n",
       "    <tr>\n",
       "      <th>2018-04-16 14:00:00</th>\n",
       "      <td>NaT</td>\n",
       "      <td>240.0000</td>\n",
       "      <td>2018-04-16</td>\n",
       "      <td>14.0000</td>\n",
       "      <td>250.0000</td>\n",
       "      <td>80.0000</td>\n",
       "      <td>70.0000</td>\n",
       "      <td>110.0000</td>\n",
       "      <td>144.0000</td>\n",
       "      <td>nan</td>\n",
       "      <td>...</td>\n",
       "      <td>69.0000</td>\n",
       "      <td>0.0000</td>\n",
       "      <td>61.0000</td>\n",
       "      <td>nan</td>\n",
       "      <td>5.0000</td>\n",
       "      <td>False</td>\n",
       "      <td>False</td>\n",
       "      <td>False</td>\n",
       "      <td>False</td>\n",
       "      <td>False</td>\n",
       "    </tr>\n",
       "    <tr>\n",
       "      <th>2018-04-16 15:00:00</th>\n",
       "      <td>NaT</td>\n",
       "      <td>240.0000</td>\n",
       "      <td>2018-04-16</td>\n",
       "      <td>15.0000</td>\n",
       "      <td>260.0000</td>\n",
       "      <td>80.0000</td>\n",
       "      <td>70.0000</td>\n",
       "      <td>120.0000</td>\n",
       "      <td>141.0000</td>\n",
       "      <td>nan</td>\n",
       "      <td>...</td>\n",
       "      <td>74.0000</td>\n",
       "      <td>0.0000</td>\n",
       "      <td>60.0000</td>\n",
       "      <td>nan</td>\n",
       "      <td>5.0000</td>\n",
       "      <td>False</td>\n",
       "      <td>False</td>\n",
       "      <td>False</td>\n",
       "      <td>False</td>\n",
       "      <td>False</td>\n",
       "    </tr>\n",
       "    <tr>\n",
       "      <th>2018-04-16 16:00:00</th>\n",
       "      <td>NaT</td>\n",
       "      <td>240.0000</td>\n",
       "      <td>2018-04-16</td>\n",
       "      <td>16.0000</td>\n",
       "      <td>240.0000</td>\n",
       "      <td>70.0000</td>\n",
       "      <td>70.0000</td>\n",
       "      <td>100.0000</td>\n",
       "      <td>133.0000</td>\n",
       "      <td>nan</td>\n",
       "      <td>...</td>\n",
       "      <td>72.0000</td>\n",
       "      <td>0.0000</td>\n",
       "      <td>60.0000</td>\n",
       "      <td>nan</td>\n",
       "      <td>5.0000</td>\n",
       "      <td>False</td>\n",
       "      <td>False</td>\n",
       "      <td>False</td>\n",
       "      <td>False</td>\n",
       "      <td>False</td>\n",
       "    </tr>\n",
       "    <tr>\n",
       "      <th>2018-04-16 17:00:00</th>\n",
       "      <td>NaT</td>\n",
       "      <td>240.0000</td>\n",
       "      <td>2018-04-16</td>\n",
       "      <td>17.0000</td>\n",
       "      <td>260.0000</td>\n",
       "      <td>60.0000</td>\n",
       "      <td>50.0000</td>\n",
       "      <td>90.0000</td>\n",
       "      <td>129.0000</td>\n",
       "      <td>nan</td>\n",
       "      <td>...</td>\n",
       "      <td>77.0000</td>\n",
       "      <td>0.0000</td>\n",
       "      <td>62.0000</td>\n",
       "      <td>nan</td>\n",
       "      <td>5.0000</td>\n",
       "      <td>False</td>\n",
       "      <td>False</td>\n",
       "      <td>False</td>\n",
       "      <td>False</td>\n",
       "      <td>False</td>\n",
       "    </tr>\n",
       "    <tr>\n",
       "      <th>2018-04-16 18:00:00</th>\n",
       "      <td>NaT</td>\n",
       "      <td>240.0000</td>\n",
       "      <td>2018-04-16</td>\n",
       "      <td>18.0000</td>\n",
       "      <td>250.0000</td>\n",
       "      <td>50.0000</td>\n",
       "      <td>60.0000</td>\n",
       "      <td>80.0000</td>\n",
       "      <td>117.0000</td>\n",
       "      <td>111.0000</td>\n",
       "      <td>...</td>\n",
       "      <td>74.0000</td>\n",
       "      <td>0.0000</td>\n",
       "      <td>64.0000</td>\n",
       "      <td>nan</td>\n",
       "      <td>7.0000</td>\n",
       "      <td>False</td>\n",
       "      <td>False</td>\n",
       "      <td>False</td>\n",
       "      <td>False</td>\n",
       "      <td>False</td>\n",
       "    </tr>\n",
       "    <tr>\n",
       "      <th>2018-04-16 19:00:00</th>\n",
       "      <td>NaT</td>\n",
       "      <td>240.0000</td>\n",
       "      <td>2018-04-16</td>\n",
       "      <td>19.0000</td>\n",
       "      <td>230.0000</td>\n",
       "      <td>50.0000</td>\n",
       "      <td>50.0000</td>\n",
       "      <td>80.0000</td>\n",
       "      <td>108.0000</td>\n",
       "      <td>nan</td>\n",
       "      <td>...</td>\n",
       "      <td>79.0000</td>\n",
       "      <td>0.0000</td>\n",
       "      <td>61.0000</td>\n",
       "      <td>nan</td>\n",
       "      <td>5.0000</td>\n",
       "      <td>False</td>\n",
       "      <td>False</td>\n",
       "      <td>False</td>\n",
       "      <td>False</td>\n",
       "      <td>False</td>\n",
       "    </tr>\n",
       "    <tr>\n",
       "      <th>2018-04-16 20:00:00</th>\n",
       "      <td>NaT</td>\n",
       "      <td>240.0000</td>\n",
       "      <td>2018-04-16</td>\n",
       "      <td>20.0000</td>\n",
       "      <td>220.0000</td>\n",
       "      <td>50.0000</td>\n",
       "      <td>40.0000</td>\n",
       "      <td>70.0000</td>\n",
       "      <td>91.0000</td>\n",
       "      <td>nan</td>\n",
       "      <td>...</td>\n",
       "      <td>77.0000</td>\n",
       "      <td>0.0000</td>\n",
       "      <td>69.0000</td>\n",
       "      <td>nan</td>\n",
       "      <td>5.0000</td>\n",
       "      <td>False</td>\n",
       "      <td>False</td>\n",
       "      <td>False</td>\n",
       "      <td>False</td>\n",
       "      <td>False</td>\n",
       "    </tr>\n",
       "    <tr>\n",
       "      <th>2018-04-16 21:00:00</th>\n",
       "      <td>NaT</td>\n",
       "      <td>240.0000</td>\n",
       "      <td>2018-04-16</td>\n",
       "      <td>21.0000</td>\n",
       "      <td>210.0000</td>\n",
       "      <td>40.0000</td>\n",
       "      <td>30.0000</td>\n",
       "      <td>60.0000</td>\n",
       "      <td>75.0000</td>\n",
       "      <td>nan</td>\n",
       "      <td>...</td>\n",
       "      <td>75.0000</td>\n",
       "      <td>0.0000</td>\n",
       "      <td>73.0000</td>\n",
       "      <td>nan</td>\n",
       "      <td>5.0000</td>\n",
       "      <td>False</td>\n",
       "      <td>False</td>\n",
       "      <td>False</td>\n",
       "      <td>False</td>\n",
       "      <td>False</td>\n",
       "    </tr>\n",
       "    <tr>\n",
       "      <th>2018-04-16 22:00:00</th>\n",
       "      <td>NaT</td>\n",
       "      <td>240.0000</td>\n",
       "      <td>2018-04-16</td>\n",
       "      <td>22.0000</td>\n",
       "      <td>160.0000</td>\n",
       "      <td>30.0000</td>\n",
       "      <td>20.0000</td>\n",
       "      <td>40.0000</td>\n",
       "      <td>72.0000</td>\n",
       "      <td>nan</td>\n",
       "      <td>...</td>\n",
       "      <td>75.0000</td>\n",
       "      <td>0.0000</td>\n",
       "      <td>75.0000</td>\n",
       "      <td>nan</td>\n",
       "      <td>5.0000</td>\n",
       "      <td>False</td>\n",
       "      <td>False</td>\n",
       "      <td>False</td>\n",
       "      <td>False</td>\n",
       "      <td>False</td>\n",
       "    </tr>\n",
       "    <tr>\n",
       "      <th>2018-04-16 23:00:00</th>\n",
       "      <td>NaT</td>\n",
       "      <td>240.0000</td>\n",
       "      <td>2018-04-16</td>\n",
       "      <td>23.0000</td>\n",
       "      <td>180.0000</td>\n",
       "      <td>30.0000</td>\n",
       "      <td>20.0000</td>\n",
       "      <td>40.0000</td>\n",
       "      <td>58.0000</td>\n",
       "      <td>nan</td>\n",
       "      <td>...</td>\n",
       "      <td>70.0000</td>\n",
       "      <td>2.0000</td>\n",
       "      <td>81.0000</td>\n",
       "      <td>nan</td>\n",
       "      <td>5.0000</td>\n",
       "      <td>False</td>\n",
       "      <td>False</td>\n",
       "      <td>False</td>\n",
       "      <td>False</td>\n",
       "      <td>False</td>\n",
       "    </tr>\n",
       "    <tr>\n",
       "      <th>2018-04-17 00:00:00</th>\n",
       "      <td>NaT</td>\n",
       "      <td>240.0000</td>\n",
       "      <td>2018-04-16</td>\n",
       "      <td>24.0000</td>\n",
       "      <td>170.0000</td>\n",
       "      <td>20.0000</td>\n",
       "      <td>30.0000</td>\n",
       "      <td>40.0000</td>\n",
       "      <td>60.0000</td>\n",
       "      <td>24.0000</td>\n",
       "      <td>...</td>\n",
       "      <td>70.0000</td>\n",
       "      <td>0.0000</td>\n",
       "      <td>83.0000</td>\n",
       "      <td>nan</td>\n",
       "      <td>7.0000</td>\n",
       "      <td>False</td>\n",
       "      <td>False</td>\n",
       "      <td>False</td>\n",
       "      <td>False</td>\n",
       "      <td>False</td>\n",
       "    </tr>\n",
       "  </tbody>\n",
       "</table>\n",
       "<p>62978 rows × 26 columns</p>\n",
       "</div>"
      ],
      "text/plain": [
       "                               datetime      STN    YYYYMMDD      HH       DD  \\\n",
       "TDate                                                                           \n",
       "2012-01-01 01:00:00                 NaT 240.0000  2012-01-01  1.0000 220.0000   \n",
       "2012-01-01 02:00:00                 NaT 240.0000  2012-01-01  2.0000 230.0000   \n",
       "2012-01-01 03:00:00 2012-01-01 03:49:00 240.0000  2012-01-01  3.0000 230.0000   \n",
       "2012-01-01 04:00:00                 NaT 240.0000  2012-01-01  4.0000 240.0000   \n",
       "2012-01-01 05:00:00                 NaT 240.0000  2012-01-01  5.0000 240.0000   \n",
       "2012-01-01 06:00:00 2012-01-01 06:51:00 240.0000  2012-01-01  6.0000 240.0000   \n",
       "2012-01-01 07:00:00                 NaT 240.0000  2012-01-01  7.0000 240.0000   \n",
       "2012-01-01 08:00:00                 NaT 240.0000  2012-01-01  8.0000 230.0000   \n",
       "2012-01-01 09:00:00                 NaT 240.0000  2012-01-01  9.0000 230.0000   \n",
       "2012-01-01 10:00:00                 NaT 240.0000  2012-01-01 10.0000 220.0000   \n",
       "2012-01-01 11:00:00                 NaT 240.0000  2012-01-01 11.0000 220.0000   \n",
       "2012-01-01 12:00:00 2012-01-01 12:27:00 240.0000  2012-01-01 12.0000 230.0000   \n",
       "2012-01-01 13:00:00                 NaT 240.0000  2012-01-01 13.0000 230.0000   \n",
       "2012-01-01 14:00:00                 NaT 240.0000  2012-01-01 14.0000 220.0000   \n",
       "2012-01-01 15:00:00                 NaT 240.0000  2012-01-01 15.0000 210.0000   \n",
       "2012-01-01 16:00:00 2012-01-01 16:28:00 240.0000  2012-01-01 16.0000 190.0000   \n",
       "2012-01-01 16:00:00 2012-01-01 16:11:00 240.0000  2012-01-01 16.0000 190.0000   \n",
       "2012-01-01 17:00:00                 NaT 240.0000  2012-01-01 17.0000 190.0000   \n",
       "2012-01-01 18:00:00                 NaT 240.0000  2012-01-01 18.0000 200.0000   \n",
       "2012-01-01 19:00:00                 NaT 240.0000  2012-01-01 19.0000 200.0000   \n",
       "2012-01-01 20:00:00                 NaT 240.0000  2012-01-01 20.0000 210.0000   \n",
       "2012-01-01 21:00:00                 NaT 240.0000  2012-01-01 21.0000 230.0000   \n",
       "2012-01-01 22:00:00                 NaT 240.0000  2012-01-01 22.0000 260.0000   \n",
       "2012-01-01 23:00:00                 NaT 240.0000  2012-01-01 23.0000 250.0000   \n",
       "2012-01-02 00:00:00                 NaT 240.0000  2012-01-01 24.0000 250.0000   \n",
       "2012-01-02 01:00:00                 NaT 240.0000  2012-01-02  1.0000 240.0000   \n",
       "2012-01-02 02:00:00                 NaT 240.0000  2012-01-02  2.0000 250.0000   \n",
       "2012-01-02 03:00:00                 NaT 240.0000  2012-01-02  3.0000 250.0000   \n",
       "2012-01-02 04:00:00                 NaT 240.0000  2012-01-02  4.0000 250.0000   \n",
       "2012-01-02 05:00:00 2012-01-02 05:52:00 240.0000  2012-01-02  5.0000 250.0000   \n",
       "...                                 ...      ...         ...     ...      ...   \n",
       "2018-04-15 19:00:00                 NaT 240.0000  2018-04-15 19.0000 170.0000   \n",
       "2018-04-15 20:00:00                 NaT 240.0000  2018-04-15 20.0000 140.0000   \n",
       "2018-04-15 21:00:00                 NaT 240.0000  2018-04-15 21.0000 140.0000   \n",
       "2018-04-15 22:00:00                 NaT 240.0000  2018-04-15 22.0000 170.0000   \n",
       "2018-04-15 23:00:00                 NaT 240.0000  2018-04-15 23.0000 180.0000   \n",
       "2018-04-16 00:00:00                 NaT 240.0000  2018-04-15 24.0000 260.0000   \n",
       "2018-04-16 01:00:00                 NaT 240.0000  2018-04-16  1.0000 180.0000   \n",
       "2018-04-16 02:00:00                 NaT 240.0000  2018-04-16  2.0000 180.0000   \n",
       "2018-04-16 03:00:00                 NaT 240.0000  2018-04-16  3.0000 190.0000   \n",
       "2018-04-16 04:00:00                 NaT 240.0000  2018-04-16  4.0000 200.0000   \n",
       "2018-04-16 05:00:00                 NaT 240.0000  2018-04-16  5.0000 210.0000   \n",
       "2018-04-16 06:00:00                 NaT 240.0000  2018-04-16  6.0000 220.0000   \n",
       "2018-04-16 07:00:00                 NaT 240.0000  2018-04-16  7.0000 240.0000   \n",
       "2018-04-16 08:00:00                 NaT 240.0000  2018-04-16  8.0000 230.0000   \n",
       "2018-04-16 09:00:00                 NaT 240.0000  2018-04-16  9.0000 250.0000   \n",
       "2018-04-16 10:00:00                 NaT 240.0000  2018-04-16 10.0000 240.0000   \n",
       "2018-04-16 11:00:00                 NaT 240.0000  2018-04-16 11.0000 260.0000   \n",
       "2018-04-16 12:00:00                 NaT 240.0000  2018-04-16 12.0000 240.0000   \n",
       "2018-04-16 13:00:00                 NaT 240.0000  2018-04-16 13.0000 250.0000   \n",
       "2018-04-16 14:00:00                 NaT 240.0000  2018-04-16 14.0000 250.0000   \n",
       "2018-04-16 15:00:00                 NaT 240.0000  2018-04-16 15.0000 260.0000   \n",
       "2018-04-16 16:00:00                 NaT 240.0000  2018-04-16 16.0000 240.0000   \n",
       "2018-04-16 17:00:00                 NaT 240.0000  2018-04-16 17.0000 260.0000   \n",
       "2018-04-16 18:00:00                 NaT 240.0000  2018-04-16 18.0000 250.0000   \n",
       "2018-04-16 19:00:00                 NaT 240.0000  2018-04-16 19.0000 230.0000   \n",
       "2018-04-16 20:00:00                 NaT 240.0000  2018-04-16 20.0000 220.0000   \n",
       "2018-04-16 21:00:00                 NaT 240.0000  2018-04-16 21.0000 210.0000   \n",
       "2018-04-16 22:00:00                 NaT 240.0000  2018-04-16 22.0000 160.0000   \n",
       "2018-04-16 23:00:00                 NaT 240.0000  2018-04-16 23.0000 180.0000   \n",
       "2018-04-17 00:00:00                 NaT 240.0000  2018-04-16 24.0000 170.0000   \n",
       "\n",
       "                          FH       FF       FX        T      T10  ...    \\\n",
       "TDate                                                             ...     \n",
       "2012-01-01 01:00:00  60.0000  70.0000  90.0000 102.0000      nan  ...     \n",
       "2012-01-01 02:00:00  60.0000  70.0000 100.0000 106.0000      nan  ...     \n",
       "2012-01-01 03:00:00  70.0000  80.0000 100.0000 111.0000      nan  ...     \n",
       "2012-01-01 04:00:00  90.0000  90.0000 130.0000 109.0000      nan  ...     \n",
       "2012-01-01 05:00:00  90.0000  90.0000 130.0000 112.0000      nan  ...     \n",
       "2012-01-01 06:00:00  90.0000  90.0000 120.0000 115.0000  98.0000  ...     \n",
       "2012-01-01 07:00:00  90.0000  90.0000 130.0000 112.0000      nan  ...     \n",
       "2012-01-01 08:00:00  90.0000  80.0000 130.0000 109.0000      nan  ...     \n",
       "2012-01-01 09:00:00  80.0000  80.0000 120.0000 112.0000      nan  ...     \n",
       "2012-01-01 10:00:00  70.0000  60.0000  90.0000 112.0000      nan  ...     \n",
       "2012-01-01 11:00:00  60.0000  80.0000 100.0000 115.0000      nan  ...     \n",
       "2012-01-01 12:00:00  80.0000 100.0000 130.0000 118.0000 104.0000  ...     \n",
       "2012-01-01 13:00:00  90.0000  80.0000 130.0000 120.0000      nan  ...     \n",
       "2012-01-01 14:00:00  90.0000  90.0000 120.0000 122.0000      nan  ...     \n",
       "2012-01-01 15:00:00  70.0000  60.0000 100.0000 118.0000      nan  ...     \n",
       "2012-01-01 16:00:00  50.0000  40.0000  90.0000 116.0000      nan  ...     \n",
       "2012-01-01 16:00:00  50.0000  40.0000  90.0000 116.0000      nan  ...     \n",
       "2012-01-01 17:00:00  50.0000  70.0000 100.0000 121.0000      nan  ...     \n",
       "2012-01-01 18:00:00  80.0000  90.0000 130.0000 124.0000 113.0000  ...     \n",
       "2012-01-01 19:00:00  90.0000  90.0000 140.0000 125.0000      nan  ...     \n",
       "2012-01-01 20:00:00 110.0000 120.0000 170.0000 126.0000      nan  ...     \n",
       "2012-01-01 21:00:00  80.0000  60.0000 160.0000 108.0000      nan  ...     \n",
       "2012-01-01 22:00:00  80.0000  70.0000 130.0000 101.0000      nan  ...     \n",
       "2012-01-01 23:00:00  60.0000  60.0000 100.0000  99.0000      nan  ...     \n",
       "2012-01-02 00:00:00  80.0000  80.0000 120.0000 100.0000  94.0000  ...     \n",
       "2012-01-02 01:00:00  80.0000  80.0000 110.0000 100.0000      nan  ...     \n",
       "2012-01-02 02:00:00  80.0000  80.0000 120.0000  99.0000      nan  ...     \n",
       "2012-01-02 03:00:00  70.0000  70.0000 110.0000  93.0000      nan  ...     \n",
       "2012-01-02 04:00:00  70.0000  70.0000 100.0000  89.0000      nan  ...     \n",
       "2012-01-02 05:00:00  60.0000  50.0000 100.0000  84.0000      nan  ...     \n",
       "...                      ...      ...      ...      ...      ...  ...     \n",
       "2018-04-15 19:00:00  10.0000  10.0000  20.0000 134.0000      nan  ...     \n",
       "2018-04-15 20:00:00  10.0000  20.0000  20.0000 126.0000      nan  ...     \n",
       "2018-04-15 21:00:00  10.0000  20.0000  30.0000 123.0000      nan  ...     \n",
       "2018-04-15 22:00:00  30.0000  30.0000  40.0000 131.0000      nan  ...     \n",
       "2018-04-15 23:00:00  30.0000  40.0000  50.0000 128.0000      nan  ...     \n",
       "2018-04-16 00:00:00  50.0000  40.0000  90.0000 118.0000 109.0000  ...     \n",
       "2018-04-16 01:00:00  30.0000  20.0000  60.0000 111.0000      nan  ...     \n",
       "2018-04-16 02:00:00  20.0000  20.0000  40.0000 107.0000      nan  ...     \n",
       "2018-04-16 03:00:00  20.0000  30.0000  40.0000  93.0000      nan  ...     \n",
       "2018-04-16 04:00:00  30.0000  30.0000  40.0000  92.0000      nan  ...     \n",
       "2018-04-16 05:00:00  30.0000  30.0000  40.0000  86.0000      nan  ...     \n",
       "2018-04-16 06:00:00  30.0000  30.0000  50.0000 103.0000  70.0000  ...     \n",
       "2018-04-16 07:00:00  50.0000  50.0000  80.0000 106.0000      nan  ...     \n",
       "2018-04-16 08:00:00  50.0000  50.0000  80.0000 124.0000      nan  ...     \n",
       "2018-04-16 09:00:00  60.0000  70.0000  90.0000 134.0000      nan  ...     \n",
       "2018-04-16 10:00:00  70.0000  60.0000 100.0000 136.0000      nan  ...     \n",
       "2018-04-16 11:00:00  70.0000  70.0000 100.0000 138.0000      nan  ...     \n",
       "2018-04-16 12:00:00  70.0000  70.0000 110.0000 141.0000  97.0000  ...     \n",
       "2018-04-16 13:00:00  70.0000  70.0000 120.0000 139.0000      nan  ...     \n",
       "2018-04-16 14:00:00  80.0000  70.0000 110.0000 144.0000      nan  ...     \n",
       "2018-04-16 15:00:00  80.0000  70.0000 120.0000 141.0000      nan  ...     \n",
       "2018-04-16 16:00:00  70.0000  70.0000 100.0000 133.0000      nan  ...     \n",
       "2018-04-16 17:00:00  60.0000  50.0000  90.0000 129.0000      nan  ...     \n",
       "2018-04-16 18:00:00  50.0000  60.0000  80.0000 117.0000 111.0000  ...     \n",
       "2018-04-16 19:00:00  50.0000  50.0000  80.0000 108.0000      nan  ...     \n",
       "2018-04-16 20:00:00  50.0000  40.0000  70.0000  91.0000      nan  ...     \n",
       "2018-04-16 21:00:00  40.0000  30.0000  60.0000  75.0000      nan  ...     \n",
       "2018-04-16 22:00:00  30.0000  20.0000  40.0000  72.0000      nan  ...     \n",
       "2018-04-16 23:00:00  30.0000  20.0000  40.0000  58.0000      nan  ...     \n",
       "2018-04-17 00:00:00  20.0000  30.0000  40.0000  60.0000  24.0000  ...     \n",
       "\n",
       "                         VV      N       U      WW     IX      M      R  \\\n",
       "TDate                                                                     \n",
       "2012-01-01 01:00:00 18.0000 8.0000 98.0000 81.0000 7.0000   True   True   \n",
       "2012-01-01 02:00:00 47.0000 7.0000 97.0000 51.0000 7.0000  False   True   \n",
       "2012-01-01 03:00:00 60.0000 8.0000 96.0000 51.0000 7.0000  False   True   \n",
       "2012-01-01 04:00:00 34.0000 8.0000 98.0000 53.0000 7.0000  False   True   \n",
       "2012-01-01 05:00:00 65.0000 8.0000 97.0000 81.0000 7.0000  False   True   \n",
       "2012-01-01 06:00:00 65.0000 8.0000 95.0000 23.0000 7.0000  False   True   \n",
       "2012-01-01 07:00:00 65.0000 8.0000 96.0000     nan 5.0000  False  False   \n",
       "2012-01-01 08:00:00 65.0000 8.0000 97.0000     nan 5.0000  False  False   \n",
       "2012-01-01 09:00:00 65.0000 6.0000 94.0000     nan 5.0000  False  False   \n",
       "2012-01-01 10:00:00 65.0000 8.0000 94.0000     nan 5.0000  False  False   \n",
       "2012-01-01 11:00:00 65.0000 7.0000 95.0000     nan 5.0000  False  False   \n",
       "2012-01-01 12:00:00 65.0000 8.0000 94.0000 23.0000 7.0000  False   True   \n",
       "2012-01-01 13:00:00 65.0000 8.0000 92.0000     nan 5.0000  False  False   \n",
       "2012-01-01 14:00:00 65.0000 8.0000 91.0000 81.0000 7.0000  False   True   \n",
       "2012-01-01 15:00:00 65.0000 8.0000 94.0000 23.0000 7.0000  False   True   \n",
       "2012-01-01 16:00:00 39.0000 8.0000 98.0000 82.0000 7.0000  False   True   \n",
       "2012-01-01 16:00:00 39.0000 8.0000 98.0000 82.0000 7.0000  False   True   \n",
       "2012-01-01 17:00:00 57.0000 8.0000 98.0000 62.0000 7.0000  False   True   \n",
       "2012-01-01 18:00:00 58.0000 8.0000 97.0000 62.0000 7.0000  False   True   \n",
       "2012-01-01 19:00:00 58.0000 8.0000 96.0000 62.0000 7.0000  False   True   \n",
       "2012-01-01 20:00:00 60.0000 8.0000 95.0000 61.0000 7.0000  False   True   \n",
       "2012-01-01 21:00:00 61.0000 8.0000 96.0000 61.0000 7.0000  False   True   \n",
       "2012-01-01 22:00:00 65.0000 8.0000 95.0000 57.0000 7.0000  False   True   \n",
       "2012-01-01 23:00:00 65.0000 8.0000 93.0000 57.0000 7.0000  False   True   \n",
       "2012-01-02 00:00:00 65.0000 8.0000 93.0000 23.0000 7.0000  False   True   \n",
       "2012-01-02 01:00:00 65.0000 8.0000 95.0000     nan 5.0000  False  False   \n",
       "2012-01-02 02:00:00 65.0000 8.0000 92.0000     nan 5.0000  False  False   \n",
       "2012-01-02 03:00:00 65.0000 8.0000 92.0000     nan 5.0000  False  False   \n",
       "2012-01-02 04:00:00 67.0000 7.0000 90.0000     nan 5.0000  False  False   \n",
       "2012-01-02 05:00:00 66.0000 8.0000 90.0000     nan 5.0000  False  False   \n",
       "...                     ...    ...     ...     ...    ...    ...    ...   \n",
       "2018-04-15 19:00:00 60.0000 8.0000 89.0000     nan 5.0000  False  False   \n",
       "2018-04-15 20:00:00 57.0000 8.0000 94.0000 10.0000 7.0000  False  False   \n",
       "2018-04-15 21:00:00 61.0000 8.0000 93.0000 57.0000 7.0000  False   True   \n",
       "2018-04-15 22:00:00 65.0000 8.0000 88.0000 81.0000 7.0000  False   True   \n",
       "2018-04-15 23:00:00 67.0000 8.0000 86.0000 23.0000 7.0000  False   True   \n",
       "2018-04-16 00:00:00 70.0000 8.0000 86.0000  2.0000 7.0000  False  False   \n",
       "2018-04-16 01:00:00 70.0000 8.0000 89.0000 23.0000 7.0000  False   True   \n",
       "2018-04-16 02:00:00 63.0000 7.0000 94.0000 23.0000 7.0000  False   True   \n",
       "2018-04-16 03:00:00 58.0000 0.0000 95.0000 10.0000 7.0000  False  False   \n",
       "2018-04-16 04:00:00 59.0000 8.0000 95.0000 10.0000 7.0000  False  False   \n",
       "2018-04-16 05:00:00 58.0000 6.0000 96.0000 10.0000 7.0000  False  False   \n",
       "2018-04-16 06:00:00 59.0000 4.0000 92.0000 10.0000 7.0000  False  False   \n",
       "2018-04-16 07:00:00 63.0000 8.0000 87.0000     nan 5.0000  False  False   \n",
       "2018-04-16 08:00:00 68.0000 8.0000 78.0000     nan 5.0000  False  False   \n",
       "2018-04-16 09:00:00 70.0000 8.0000 68.0000     nan 5.0000  False  False   \n",
       "2018-04-16 10:00:00 67.0000 4.0000 68.0000     nan 5.0000  False  False   \n",
       "2018-04-16 11:00:00 67.0000 8.0000 68.0000     nan 5.0000  False  False   \n",
       "2018-04-16 12:00:00 65.0000 1.0000 67.0000     nan 7.0000  False  False   \n",
       "2018-04-16 13:00:00 73.0000 4.0000 66.0000     nan 5.0000  False  False   \n",
       "2018-04-16 14:00:00 69.0000 0.0000 61.0000     nan 5.0000  False  False   \n",
       "2018-04-16 15:00:00 74.0000 0.0000 60.0000     nan 5.0000  False  False   \n",
       "2018-04-16 16:00:00 72.0000 0.0000 60.0000     nan 5.0000  False  False   \n",
       "2018-04-16 17:00:00 77.0000 0.0000 62.0000     nan 5.0000  False  False   \n",
       "2018-04-16 18:00:00 74.0000 0.0000 64.0000     nan 7.0000  False  False   \n",
       "2018-04-16 19:00:00 79.0000 0.0000 61.0000     nan 5.0000  False  False   \n",
       "2018-04-16 20:00:00 77.0000 0.0000 69.0000     nan 5.0000  False  False   \n",
       "2018-04-16 21:00:00 75.0000 0.0000 73.0000     nan 5.0000  False  False   \n",
       "2018-04-16 22:00:00 75.0000 0.0000 75.0000     nan 5.0000  False  False   \n",
       "2018-04-16 23:00:00 70.0000 2.0000 81.0000     nan 5.0000  False  False   \n",
       "2018-04-17 00:00:00 70.0000 0.0000 83.0000     nan 7.0000  False  False   \n",
       "\n",
       "                         S      O      Y  \n",
       "TDate                                     \n",
       "2012-01-01 01:00:00  False  False  False  \n",
       "2012-01-01 02:00:00  False  False  False  \n",
       "2012-01-01 03:00:00  False  False  False  \n",
       "2012-01-01 04:00:00  False  False  False  \n",
       "2012-01-01 05:00:00  False  False  False  \n",
       "2012-01-01 06:00:00  False  False  False  \n",
       "2012-01-01 07:00:00  False  False  False  \n",
       "2012-01-01 08:00:00  False  False  False  \n",
       "2012-01-01 09:00:00  False  False  False  \n",
       "2012-01-01 10:00:00  False  False  False  \n",
       "2012-01-01 11:00:00  False  False  False  \n",
       "2012-01-01 12:00:00  False  False  False  \n",
       "2012-01-01 13:00:00  False  False  False  \n",
       "2012-01-01 14:00:00  False  False  False  \n",
       "2012-01-01 15:00:00  False  False  False  \n",
       "2012-01-01 16:00:00  False  False  False  \n",
       "2012-01-01 16:00:00  False  False  False  \n",
       "2012-01-01 17:00:00  False  False  False  \n",
       "2012-01-01 18:00:00  False  False  False  \n",
       "2012-01-01 19:00:00  False  False  False  \n",
       "2012-01-01 20:00:00  False  False  False  \n",
       "2012-01-01 21:00:00  False  False  False  \n",
       "2012-01-01 22:00:00  False  False  False  \n",
       "2012-01-01 23:00:00  False  False  False  \n",
       "2012-01-02 00:00:00  False  False  False  \n",
       "2012-01-02 01:00:00  False  False  False  \n",
       "2012-01-02 02:00:00  False  False  False  \n",
       "2012-01-02 03:00:00  False  False  False  \n",
       "2012-01-02 04:00:00  False  False  False  \n",
       "2012-01-02 05:00:00  False  False  False  \n",
       "...                    ...    ...    ...  \n",
       "2018-04-15 19:00:00  False  False  False  \n",
       "2018-04-15 20:00:00  False  False  False  \n",
       "2018-04-15 21:00:00  False  False  False  \n",
       "2018-04-15 22:00:00  False  False  False  \n",
       "2018-04-15 23:00:00  False  False  False  \n",
       "2018-04-16 00:00:00  False  False  False  \n",
       "2018-04-16 01:00:00  False  False  False  \n",
       "2018-04-16 02:00:00  False  False  False  \n",
       "2018-04-16 03:00:00  False  False  False  \n",
       "2018-04-16 04:00:00  False  False  False  \n",
       "2018-04-16 05:00:00  False  False  False  \n",
       "2018-04-16 06:00:00  False  False  False  \n",
       "2018-04-16 07:00:00  False  False  False  \n",
       "2018-04-16 08:00:00  False  False  False  \n",
       "2018-04-16 09:00:00  False  False  False  \n",
       "2018-04-16 10:00:00  False  False  False  \n",
       "2018-04-16 11:00:00  False  False  False  \n",
       "2018-04-16 12:00:00  False  False  False  \n",
       "2018-04-16 13:00:00  False  False  False  \n",
       "2018-04-16 14:00:00  False  False  False  \n",
       "2018-04-16 15:00:00  False  False  False  \n",
       "2018-04-16 16:00:00  False  False  False  \n",
       "2018-04-16 17:00:00  False  False  False  \n",
       "2018-04-16 18:00:00  False  False  False  \n",
       "2018-04-16 19:00:00  False  False  False  \n",
       "2018-04-16 20:00:00  False  False  False  \n",
       "2018-04-16 21:00:00  False  False  False  \n",
       "2018-04-16 22:00:00  False  False  False  \n",
       "2018-04-16 23:00:00  False  False  False  \n",
       "2018-04-17 00:00:00  False  False  False  \n",
       "\n",
       "[62978 rows x 26 columns]"
      ]
     },
     "execution_count": 11,
     "metadata": {},
     "output_type": "execute_result"
    }
   ],
   "source": [
    "df_ong.set_index('TDate')"
   ]
  },
  {
   "cell_type": "code",
   "execution_count": 12,
   "metadata": {},
   "outputs": [],
   "source": [
    "df_ong['count'] = df_ong.groupby('TDate')['datetime'].transform('count')"
   ]
  },
  {
   "cell_type": "markdown",
   "metadata": {},
   "source": [
    "### Mist, Rain, Snow, Thunderstorm, Ice"
   ]
  },
  {
   "cell_type": "code",
   "execution_count": 13,
   "metadata": {},
   "outputs": [],
   "source": [
    "#Impute missing data\n",
    "values = {'M': False, 'R': False, 'S': False,'O': False, 'Y': False} # assume =False, when the info is not collected\n",
    "df_ong.fillna(value=values)\n",
    "df_ong[[\"M\",\"R\",\"S\",\"O\",\"Y\"]]=df_ong[[\"M\",\"R\",\"S\",\"O\",\"Y\"]].replace({ None:False})"
   ]
  },
  {
   "cell_type": "code",
   "execution_count": 14,
   "metadata": {},
   "outputs": [
    {
     "name": "stdout",
     "output_type": "stream",
     "text": [
      "accident freq. per sample when it rains: 1.1350 \n",
      "accident freq. per sample when it does not: 0.6705\n"
     ]
    }
   ],
   "source": [
    "#number of accidents when it rains\n",
    "n=df_ong[df_ong['R']==True].count()[1]\n",
    "num_acc_rain=df_ong[\"count\"][df_ong['R']==True].sum()\n",
    "#number of accidents when it does not rain (based on same number of samples)\n",
    "num_acc_notrain=df_ong['count'][df_ong['R']==False].sample(n,random_state=42).sum()\n",
    "print(\"accident freq. per sample when it rains: %.4f \\naccident freq. per sample when it does not: %.4f\" % (num_acc_rain/n,num_acc_notrain/n))"
   ]
  },
  {
   "cell_type": "code",
   "execution_count": 15,
   "metadata": {},
   "outputs": [
    {
     "name": "stdout",
     "output_type": "stream",
     "text": [
      "accident freq. per sample when it is misty: 0.8361 \n",
      "accident freq. per sample when it is not: 0.7481\n"
     ]
    }
   ],
   "source": [
    "#number of accidents when it is misty\n",
    "num_acc=df_ong[\"count\"][df_ong['M']==True].sum()\n",
    "n=df_ong[df_ong['M']==True].count()[1]\n",
    "#number of accidents when it is not (based on same number of samples)\n",
    "num_acc_not=df_ong[\"count\"][df_ong['M']==False].sample(n,random_state=42).sum()\n",
    "print(\"accident freq. per sample when it is misty: %.4f \\naccident freq. per sample when it is not: %.4f\" % (num_acc/n,num_acc_not/n))\n",
    "\n"
   ]
  },
  {
   "cell_type": "code",
   "execution_count": 16,
   "metadata": {},
   "outputs": [
    {
     "name": "stdout",
     "output_type": "stream",
     "text": [
      "accident freq per sample when it snows: 1.6524 \n",
      "accident freq per sample when it does not: 0.7426\n"
     ]
    }
   ],
   "source": [
    "#number of accidents when it snows\n",
    "num_acc=df_ong[\"count\"][df_ong['S']==True].sum()\n",
    "n=df_ong[df_ong['S']==True].count()[1]\n",
    "#number of accidents when it does not (based on same number of samples)\n",
    "num_acc_not=df_ong[\"count\"][df_ong['S']==False].sample(n,random_state=42).sum()\n",
    "print(\"accident freq per sample when it snows: %.4f \\naccident freq per sample when it does not: %.4f\" % (num_acc/n,num_acc_not/n))"
   ]
  },
  {
   "cell_type": "code",
   "execution_count": 17,
   "metadata": {},
   "outputs": [
    {
     "name": "stdout",
     "output_type": "stream",
     "text": [
      "accident/sample when there is thunderstrom: 1.0447 \n",
      "accident/sample when there is no thunderstrom: 0.7204\n"
     ]
    }
   ],
   "source": [
    "#number of accidents when there is thunderstorm\n",
    "num_acc=df_ong[\"count\"][df_ong['O']==True].sum()\n",
    "n=df_ong[df_ong['O']==True].count()[1]\n",
    "#number of accidents when there is no thunderstorm(based on same number of samples)\n",
    "num_acc_not=df_ong[\"count\"][df_ong['O']==False].sample(n,random_state=42).sum()\n",
    "print(\"accident/sample when there is thunderstrom: %.4f \\naccident/sample when there is no thunderstrom: %.4f\" % (num_acc/n,num_acc_not/n))"
   ]
  },
  {
   "cell_type": "code",
   "execution_count": 18,
   "metadata": {},
   "outputs": [
    {
     "name": "stdout",
     "output_type": "stream",
     "text": [
      "accident/sample when the road is icy: 1.7622 \n",
      "accident/sample when it is not icy: 0.7524\n"
     ]
    }
   ],
   "source": [
    "#number of accidents when there the road is icy\n",
    "num_acc=df_ong[\"count\"][df_ong['Y']==True].sum()\n",
    "n=df_ong[df_ong['Y']==True].count()[1]\n",
    "#number of accidents when there is no ice(based on same number of samples)\n",
    "num_acc_not=df_ong[\"count\"][df_ong['Y']==False].sample(n,random_state=42).sum()\n",
    "print(\"accident/sample when the road is icy: %.4f \\naccident/sample when it is not icy: %.4f\" % (num_acc/n,num_acc_not/n))"
   ]
  },
  {
   "cell_type": "markdown",
   "metadata": {},
   "source": [
    "# Numerical Features"
   ]
  },
  {
   "cell_type": "markdown",
   "metadata": {},
   "source": [
    "### wind speed\n",
    "wind speed (in 0.1 m / s) averaged over the last 10 minutes of the last hour"
   ]
  },
  {
   "cell_type": "code",
   "execution_count": 19,
   "metadata": {
    "scrolled": true
   },
   "outputs": [
    {
     "name": "stdout",
     "output_type": "stream",
     "text": [
      "count   62,978.0000\n",
      "mean        49.7767\n",
      "std         27.6279\n",
      "min          0.0000\n",
      "25%         30.0000\n",
      "50%         50.0000\n",
      "75%         70.0000\n",
      "max        240.0000\n",
      "Name: FF, dtype: float64\n"
     ]
    }
   ],
   "source": [
    "print(df_ong[\"FF\"].describe())\n",
    "n_sample = 5000"
   ]
  },
  {
   "cell_type": "code",
   "execution_count": 20,
   "metadata": {},
   "outputs": [
    {
     "data": {
      "text/plain": [
       "0.6316"
      ]
     },
     "execution_count": 20,
     "metadata": {},
     "output_type": "execute_result"
    }
   ],
   "source": [
    "df_ong[\"count\"][df_ong[\"FF\"].between(0, 30)].sample(n_sample,random_state=42).sum()/n_sample"
   ]
  },
  {
   "cell_type": "code",
   "execution_count": 21,
   "metadata": {},
   "outputs": [
    {
     "data": {
      "text/plain": [
       "0.7228"
      ]
     },
     "execution_count": 21,
     "metadata": {},
     "output_type": "execute_result"
    }
   ],
   "source": [
    "df_ong[\"count\"][df_ong[\"FF\"].between(30.01, 50)].sample(n_sample,random_state=42).sum()/n_sample"
   ]
  },
  {
   "cell_type": "code",
   "execution_count": 22,
   "metadata": {},
   "outputs": [
    {
     "data": {
      "text/plain": [
       "0.875"
      ]
     },
     "execution_count": 22,
     "metadata": {},
     "output_type": "execute_result"
    }
   ],
   "source": [
    "df_ong[\"count\"][df_ong[\"FF\"].between(50.01, 70)].sample(n_sample,random_state=42).sum()/n_sample"
   ]
  },
  {
   "cell_type": "code",
   "execution_count": 23,
   "metadata": {},
   "outputs": [
    {
     "data": {
      "text/plain": [
       "0.914"
      ]
     },
     "execution_count": 23,
     "metadata": {},
     "output_type": "execute_result"
    }
   ],
   "source": [
    "df_ong[\"count\"][df_ong[\"FF\"].between(70.01, 240)].sample(n_sample,random_state=42).sum()/n_sample"
   ]
  },
  {
   "cell_type": "markdown",
   "metadata": {},
   "source": [
    "### Hoogste windstoot\n",
    "Highest wind gust (at 0.1 m / s) over the past hour period;"
   ]
  },
  {
   "cell_type": "code",
   "execution_count": 24,
   "metadata": {},
   "outputs": [
    {
     "data": {
      "text/plain": [
       "count   62,978.0000\n",
       "mean        79.4603\n",
       "std         40.5963\n",
       "min          0.0000\n",
       "25%         50.0000\n",
       "50%         70.0000\n",
       "75%        100.0000\n",
       "max        340.0000\n",
       "Name: FX, dtype: float64"
      ]
     },
     "execution_count": 24,
     "metadata": {},
     "output_type": "execute_result"
    }
   ],
   "source": [
    "df_ong['FX'][df_ong['FX'].notnull()].describe()"
   ]
  },
  {
   "cell_type": "code",
   "execution_count": 25,
   "metadata": {},
   "outputs": [],
   "source": [
    "q0=df_ong['FX'].describe()[3]\n",
    "q25=df_ong['FX'].describe()[4]\n",
    "q50=df_ong['FX'].describe()[5]\n",
    "q75=df_ong['FX'].describe()[6]\n",
    "q100=df_ong['FX'].describe()[7]\n",
    "eps = 0.000001"
   ]
  },
  {
   "cell_type": "code",
   "execution_count": 26,
   "metadata": {},
   "outputs": [
    {
     "data": {
      "text/plain": [
       "0.6316"
      ]
     },
     "execution_count": 26,
     "metadata": {},
     "output_type": "execute_result"
    }
   ],
   "source": [
    "df_ong[\"count\"][df_ong[\"FX\"].between(q0, q25)].sample(n_sample,random_state=42).sum()/n_sample"
   ]
  },
  {
   "cell_type": "code",
   "execution_count": 27,
   "metadata": {},
   "outputs": [
    {
     "data": {
      "text/plain": [
       "0.6968"
      ]
     },
     "execution_count": 27,
     "metadata": {},
     "output_type": "execute_result"
    }
   ],
   "source": [
    "df_ong[\"count\"][df_ong[\"FX\"].between(q25+eps, q50)].sample(n_sample,random_state=42).sum()/n_sample"
   ]
  },
  {
   "cell_type": "code",
   "execution_count": 28,
   "metadata": {},
   "outputs": [
    {
     "data": {
      "text/plain": [
       "0.8708"
      ]
     },
     "execution_count": 28,
     "metadata": {},
     "output_type": "execute_result"
    }
   ],
   "source": [
    "df_ong[\"count\"][df_ong[\"FX\"].between(q50+eps, q75)].sample(n_sample,random_state=42).sum()/n_sample"
   ]
  },
  {
   "cell_type": "code",
   "execution_count": 29,
   "metadata": {},
   "outputs": [
    {
     "data": {
      "text/plain": [
       "0.9386"
      ]
     },
     "execution_count": 29,
     "metadata": {},
     "output_type": "execute_result"
    }
   ],
   "source": [
    "df_ong[\"count\"][df_ong[\"FX\"].between(q75+eps, q100)].sample(n_sample,random_state=42).sum()/n_sample"
   ]
  },
  {
   "cell_type": "markdown",
   "metadata": {},
   "source": [
    "### Air pressure\n",
    "Air pressure (in 0.1 hPa) reduced to sea level, during observation"
   ]
  },
  {
   "cell_type": "code",
   "execution_count": 30,
   "metadata": {
    "scrolled": true
   },
   "outputs": [
    {
     "data": {
      "text/plain": [
       "count   62,978.0000\n",
       "mean    10,150.3881\n",
       "std        102.6918\n",
       "min      9,687.0000\n",
       "25%     10,090.0000\n",
       "50%     10,157.0000\n",
       "75%     10,220.0000\n",
       "max     10,452.0000\n",
       "Name: P, dtype: float64"
      ]
     },
     "execution_count": 30,
     "metadata": {},
     "output_type": "execute_result"
    }
   ],
   "source": [
    "df_ong['P'].describe()"
   ]
  },
  {
   "cell_type": "code",
   "execution_count": 31,
   "metadata": {},
   "outputs": [],
   "source": [
    "q0=df_ong['P'].describe()[3]\n",
    "q25=df_ong['P'].describe()[4]\n",
    "q50=df_ong['P'].describe()[5]\n",
    "q75=df_ong['P'].describe()[6]\n",
    "q100=df_ong['P'].describe()[7]"
   ]
  },
  {
   "cell_type": "code",
   "execution_count": 32,
   "metadata": {},
   "outputs": [
    {
     "data": {
      "text/plain": [
       "0.8922"
      ]
     },
     "execution_count": 32,
     "metadata": {},
     "output_type": "execute_result"
    }
   ],
   "source": [
    "df_ong[\"count\"][df_ong[\"P\"].between(q0, q25)].sample(n_sample,random_state=42).sum()/n_sample"
   ]
  },
  {
   "cell_type": "code",
   "execution_count": 33,
   "metadata": {},
   "outputs": [
    {
     "data": {
      "text/plain": [
       "0.6354"
      ]
     },
     "execution_count": 33,
     "metadata": {},
     "output_type": "execute_result"
    }
   ],
   "source": [
    "df_ong[\"count\"][df_ong[\"P\"].between(q25+eps, q50)].sample(n_sample,random_state=42).sum()/n_sample"
   ]
  },
  {
   "cell_type": "code",
   "execution_count": 34,
   "metadata": {},
   "outputs": [
    {
     "data": {
      "text/plain": [
       "0.6256"
      ]
     },
     "execution_count": 34,
     "metadata": {},
     "output_type": "execute_result"
    }
   ],
   "source": [
    "df_ong[\"count\"][df_ong[\"P\"].between(q50+eps, q75)].sample(n_sample,random_state=42).sum()/n_sample"
   ]
  },
  {
   "cell_type": "code",
   "execution_count": 35,
   "metadata": {},
   "outputs": [
    {
     "data": {
      "text/plain": [
       "0.8808"
      ]
     },
     "execution_count": 35,
     "metadata": {},
     "output_type": "execute_result"
    }
   ],
   "source": [
    "df_ong[\"count\"][df_ong[\"P\"].between(q75+eps, q100)].sample(n_sample,random_state=42).sum()/n_sample"
   ]
  },
  {
   "cell_type": "markdown",
   "metadata": {},
   "source": [
    "### Horizontal view during observation\n",
    "Horizontal view during observation (0 = less than 100m, 1 = 100-200m, 2 = 200-300m, ..., 49 = 4900-5000m, 50 = 5-6km, 56 = 6-7km, 57 = 7-8km, ..., 79 = 29-30km, 80 = 30-35km, 81 = 35-40km, ..., 89 = more than 70km);\n"
   ]
  },
  {
   "cell_type": "code",
   "execution_count": 36,
   "metadata": {
    "scrolled": true
   },
   "outputs": [
    {
     "data": {
      "text/plain": [
       "count   62,972.0000\n",
       "mean        64.3290\n",
       "std         14.7892\n",
       "min          0.0000\n",
       "25%         60.0000\n",
       "50%         67.0000\n",
       "75%         75.0000\n",
       "max         83.0000\n",
       "Name: VV, dtype: float64"
      ]
     },
     "execution_count": 36,
     "metadata": {},
     "output_type": "execute_result"
    }
   ],
   "source": [
    "df_ong['VV'][df_ong['VV'].notnull()].describe()"
   ]
  },
  {
   "cell_type": "code",
   "execution_count": 37,
   "metadata": {},
   "outputs": [],
   "source": [
    "q0=df_ong['VV'].describe()[3]\n",
    "q25=df_ong['VV'].describe()[4]\n",
    "q50=df_ong['VV'].describe()[5]\n",
    "q75=df_ong['VV'].describe()[6]\n",
    "q100=df_ong['VV'].describe()[7]"
   ]
  },
  {
   "cell_type": "code",
   "execution_count": 38,
   "metadata": {},
   "outputs": [
    {
     "data": {
      "text/plain": [
       "1.1154618473895583"
      ]
     },
     "execution_count": 38,
     "metadata": {},
     "output_type": "execute_result"
    }
   ],
   "source": [
    "df_ong[\"count\"][df_ong[\"VV\"].between(q0, 10.0)].sample(996,random_state=42).sum()/996"
   ]
  },
  {
   "cell_type": "code",
   "execution_count": 39,
   "metadata": {},
   "outputs": [
    {
     "data": {
      "text/plain": [
       "0.8948"
      ]
     },
     "execution_count": 39,
     "metadata": {},
     "output_type": "execute_result"
    }
   ],
   "source": [
    "df_ong[\"count\"][df_ong[\"VV\"].between(q0, q25)].sample(n_sample,random_state=42).sum()/n_sample"
   ]
  },
  {
   "cell_type": "code",
   "execution_count": 40,
   "metadata": {},
   "outputs": [
    {
     "data": {
      "text/plain": [
       "0.785"
      ]
     },
     "execution_count": 40,
     "metadata": {},
     "output_type": "execute_result"
    }
   ],
   "source": [
    "df_ong[\"count\"][df_ong[\"VV\"].between(q25+eps, q50)].sample(n_sample,random_state=42).sum()/n_sample"
   ]
  },
  {
   "cell_type": "code",
   "execution_count": 41,
   "metadata": {},
   "outputs": [
    {
     "data": {
      "text/plain": [
       "0.661"
      ]
     },
     "execution_count": 41,
     "metadata": {},
     "output_type": "execute_result"
    }
   ],
   "source": [
    "df_ong[\"count\"][df_ong[\"VV\"].between(q50+eps, q75)].sample(n_sample,random_state=42).sum()/n_sample"
   ]
  },
  {
   "cell_type": "code",
   "execution_count": 42,
   "metadata": {},
   "outputs": [
    {
     "data": {
      "text/plain": [
       "0.7138"
      ]
     },
     "execution_count": 42,
     "metadata": {},
     "output_type": "execute_result"
    }
   ],
   "source": [
    "df_ong[\"count\"][df_ong[\"VV\"].between(q75+eps, q100)].sample(n_sample,random_state=42).sum()/n_sample"
   ]
  },
  {
   "cell_type": "markdown",
   "metadata": {},
   "source": [
    "### cloud cover\n",
    "cloud cover (upper air cover in eighth), during observation (9 = upper air invisible);"
   ]
  },
  {
   "cell_type": "code",
   "execution_count": 43,
   "metadata": {
    "scrolled": true
   },
   "outputs": [
    {
     "data": {
      "text/plain": [
       "count   62,972.0000\n",
       "mean         5.6419\n",
       "std          3.2551\n",
       "min          0.0000\n",
       "25%          2.0000\n",
       "50%          8.0000\n",
       "75%          8.0000\n",
       "max          9.0000\n",
       "Name: N, dtype: float64"
      ]
     },
     "execution_count": 43,
     "metadata": {},
     "output_type": "execute_result"
    }
   ],
   "source": [
    "df_ong['N'].describe()"
   ]
  },
  {
   "cell_type": "code",
   "execution_count": 44,
   "metadata": {},
   "outputs": [],
   "source": [
    "q0=df_ong['N'].describe()[3]\n",
    "q25=df_ong['N'].describe()[4]\n",
    "q50=df_ong['N'].describe()[5]\n",
    "q75=df_ong['N'].describe()[6]\n",
    "q100=df_ong['N'].describe()[7]"
   ]
  },
  {
   "cell_type": "code",
   "execution_count": 45,
   "metadata": {},
   "outputs": [
    {
     "data": {
      "text/plain": [
       "0.6016427104722792"
      ]
     },
     "execution_count": 45,
     "metadata": {},
     "output_type": "execute_result"
    }
   ],
   "source": [
    "df_ong[\"count\"][df_ong[\"N\"].between(q0, q25)].sample(487,random_state=42).sum()/487"
   ]
  },
  {
   "cell_type": "code",
   "execution_count": 46,
   "metadata": {},
   "outputs": [
    {
     "data": {
      "text/plain": [
       "0.917864476386037"
      ]
     },
     "execution_count": 46,
     "metadata": {},
     "output_type": "execute_result"
    }
   ],
   "source": [
    "df_ong[\"count\"][df_ong[\"N\"].between(q25+eps, q50)].sample(487,random_state=42).sum()/487"
   ]
  },
  {
   "cell_type": "code",
   "execution_count": 47,
   "metadata": {},
   "outputs": [
    {
     "data": {
      "text/plain": [
       "0.9055441478439425"
      ]
     },
     "execution_count": 47,
     "metadata": {},
     "output_type": "execute_result"
    }
   ],
   "source": [
    "df_ong[\"count\"][df_ong[\"N\"].between(q50, q75)].sample(487,random_state=42).sum()/487#=8"
   ]
  },
  {
   "cell_type": "code",
   "execution_count": 48,
   "metadata": {},
   "outputs": [
    {
     "data": {
      "text/plain": [
       "0.9404517453798767"
      ]
     },
     "execution_count": 48,
     "metadata": {},
     "output_type": "execute_result"
    }
   ],
   "source": [
    "df_ong[\"count\"][df_ong[\"N\"].between(q75+eps, q100)].sample(487,random_state=42).sum()/487"
   ]
  },
  {
   "cell_type": "markdown",
   "metadata": {},
   "source": [
    "### Relative humidity\n",
    "Relative humidity (in percentages) at 1.50 m altitude during observation\n"
   ]
  },
  {
   "cell_type": "code",
   "execution_count": 49,
   "metadata": {
    "scrolled": true
   },
   "outputs": [
    {
     "data": {
      "text/plain": [
       "count   62,978.0000\n",
       "mean        80.8673\n",
       "std         13.4668\n",
       "min         22.0000\n",
       "25%         72.0000\n",
       "50%         84.0000\n",
       "75%         92.0000\n",
       "max        100.0000\n",
       "Name: U, dtype: float64"
      ]
     },
     "execution_count": 49,
     "metadata": {},
     "output_type": "execute_result"
    }
   ],
   "source": [
    "df_ong['U'][df_ong['U'].notnull()].describe()"
   ]
  },
  {
   "cell_type": "code",
   "execution_count": 50,
   "metadata": {},
   "outputs": [],
   "source": [
    "q0=df_ong['U'].describe()[3]\n",
    "q25=df_ong['U'].describe()[4]\n",
    "q50=df_ong['U'].describe()[5]\n",
    "q75=df_ong['U'].describe()[6]\n",
    "q100=df_ong['U'].describe()[7]"
   ]
  },
  {
   "cell_type": "code",
   "execution_count": 51,
   "metadata": {},
   "outputs": [
    {
     "data": {
      "text/plain": [
       "0.7128"
      ]
     },
     "execution_count": 51,
     "metadata": {},
     "output_type": "execute_result"
    }
   ],
   "source": [
    "df_ong[\"count\"][df_ong[\"U\"].between(q0, q25)].sample(n_sample,random_state=42).sum()/n_sample"
   ]
  },
  {
   "cell_type": "code",
   "execution_count": 52,
   "metadata": {},
   "outputs": [
    {
     "data": {
      "text/plain": [
       "0.6882"
      ]
     },
     "execution_count": 52,
     "metadata": {},
     "output_type": "execute_result"
    }
   ],
   "source": [
    "df_ong[\"count\"][df_ong[\"U\"].between(q25+eps, q50)].sample(n_sample,random_state=42).sum()/n_sample"
   ]
  },
  {
   "cell_type": "code",
   "execution_count": 53,
   "metadata": {},
   "outputs": [
    {
     "data": {
      "text/plain": [
       "0.761"
      ]
     },
     "execution_count": 53,
     "metadata": {},
     "output_type": "execute_result"
    }
   ],
   "source": [
    "df_ong[\"count\"][df_ong[\"U\"].between(q50+eps, q75)].sample(n_sample,random_state=42).sum()/n_sample"
   ]
  },
  {
   "cell_type": "code",
   "execution_count": 54,
   "metadata": {},
   "outputs": [
    {
     "data": {
      "text/plain": [
       "0.9088"
      ]
     },
     "execution_count": 54,
     "metadata": {},
     "output_type": "execute_result"
    }
   ],
   "source": [
    "df_ong[\"count\"][df_ong[\"U\"].between(q75+eps, q100)].sample(n_sample,random_state=42).sum()/n_sample"
   ]
  },
  {
   "cell_type": "markdown",
   "metadata": {},
   "source": [
    "### Temperature\n",
    "Temperature (in 0.1 degrees Celsius) at 1.50 m altitude during observation"
   ]
  },
  {
   "cell_type": "code",
   "execution_count": 55,
   "metadata": {
    "scrolled": false
   },
   "outputs": [
    {
     "data": {
      "text/plain": [
       "count   62,978.0000\n",
       "mean       104.9332\n",
       "std         64.1871\n",
       "min       -178.0000\n",
       "25%         60.0000\n",
       "50%        101.0000\n",
       "75%        152.0000\n",
       "max        333.0000\n",
       "Name: T, dtype: float64"
      ]
     },
     "execution_count": 55,
     "metadata": {},
     "output_type": "execute_result"
    }
   ],
   "source": [
    "df_ong['T'][df_ong['T'].notnull()].describe()"
   ]
  },
  {
   "cell_type": "code",
   "execution_count": 56,
   "metadata": {},
   "outputs": [],
   "source": [
    "q0=df_ong['T'].describe()[3]\n",
    "q25=df_ong['T'].describe()[4]\n",
    "q50=df_ong['T'].describe()[5]\n",
    "q75=df_ong['T'].describe()[6]\n",
    "q100=df_ong['T'].describe()[7]"
   ]
  },
  {
   "cell_type": "code",
   "execution_count": 57,
   "metadata": {},
   "outputs": [
    {
     "data": {
      "text/plain": [
       "0.8788"
      ]
     },
     "execution_count": 57,
     "metadata": {},
     "output_type": "execute_result"
    }
   ],
   "source": [
    "df_ong[\"count\"][df_ong[\"T\"].between(q0, q25)].sample(n_sample,random_state=42).sum()/n_sample"
   ]
  },
  {
   "cell_type": "code",
   "execution_count": 58,
   "metadata": {},
   "outputs": [
    {
     "data": {
      "text/plain": [
       "0.8342"
      ]
     },
     "execution_count": 58,
     "metadata": {},
     "output_type": "execute_result"
    }
   ],
   "source": [
    "df_ong[\"count\"][df_ong[\"T\"].between(q25+eps, q50)].sample(n_sample,random_state=42).sum()/n_sample"
   ]
  },
  {
   "cell_type": "code",
   "execution_count": 59,
   "metadata": {},
   "outputs": [
    {
     "data": {
      "text/plain": [
       "0.7186"
      ]
     },
     "execution_count": 59,
     "metadata": {},
     "output_type": "execute_result"
    }
   ],
   "source": [
    "df_ong[\"count\"][df_ong[\"T\"].between(q50+eps, q75)].sample(n_sample,random_state=42).sum()/n_sample"
   ]
  },
  {
   "cell_type": "code",
   "execution_count": 60,
   "metadata": {},
   "outputs": [
    {
     "data": {
      "text/plain": [
       "0.6266"
      ]
     },
     "execution_count": 60,
     "metadata": {},
     "output_type": "execute_result"
    }
   ],
   "source": [
    "df_ong[\"count\"][df_ong[\"T\"].between(q75+eps, q100)].sample(n_sample,random_state=42).sum()/n_sample"
   ]
  },
  {
   "cell_type": "markdown",
   "metadata": {},
   "source": [
    "### Minimum temperature\n",
    "Minimum temperature (in 0.1 degrees Celsius) at 10 cm height in the last 6 hours;"
   ]
  },
  {
   "cell_type": "code",
   "execution_count": 61,
   "metadata": {
    "scrolled": true
   },
   "outputs": [
    {
     "data": {
      "text/plain": [
       "count   10,411.0000\n",
       "mean        78.2424\n",
       "std         64.8045\n",
       "min       -215.0000\n",
       "25%         34.0000\n",
       "50%         77.0000\n",
       "75%        126.0000\n",
       "max        303.0000\n",
       "Name: T10, dtype: float64"
      ]
     },
     "execution_count": 61,
     "metadata": {},
     "output_type": "execute_result"
    }
   ],
   "source": [
    "df_ong['T10'].describe()"
   ]
  },
  {
   "cell_type": "code",
   "execution_count": 62,
   "metadata": {},
   "outputs": [],
   "source": [
    "q0=df_ong['T10'].describe()[3]\n",
    "q25=df_ong['T10'].describe()[4]\n",
    "q50=df_ong['T10'].describe()[5]\n",
    "q75=df_ong['T10'].describe()[6]\n",
    "q100=df_ong['T10'].describe()[7]\n",
    "n_sample = 1000"
   ]
  },
  {
   "cell_type": "code",
   "execution_count": 63,
   "metadata": {},
   "outputs": [
    {
     "data": {
      "text/plain": [
       "0.632"
      ]
     },
     "execution_count": 63,
     "metadata": {},
     "output_type": "execute_result"
    }
   ],
   "source": [
    "df_ong[\"count\"][df_ong[\"T10\"].between(q0, q25)].sample(n_sample,random_state=42).sum()/n_sample"
   ]
  },
  {
   "cell_type": "code",
   "execution_count": 64,
   "metadata": {},
   "outputs": [
    {
     "data": {
      "text/plain": [
       "0.794"
      ]
     },
     "execution_count": 64,
     "metadata": {},
     "output_type": "execute_result"
    }
   ],
   "source": [
    "df_ong[\"count\"][df_ong[\"T10\"].between(q25+eps, q50)].sample(n_sample,random_state=42).sum()/n_sample"
   ]
  },
  {
   "cell_type": "code",
   "execution_count": 65,
   "metadata": {},
   "outputs": [
    {
     "data": {
      "text/plain": [
       "0.766"
      ]
     },
     "execution_count": 65,
     "metadata": {},
     "output_type": "execute_result"
    }
   ],
   "source": [
    "df_ong[\"count\"][df_ong[\"T10\"].between(q50+eps, q75)].sample(n_sample,random_state=42).sum()/n_sample"
   ]
  },
  {
   "cell_type": "code",
   "execution_count": 66,
   "metadata": {},
   "outputs": [
    {
     "data": {
      "text/plain": [
       "0.62"
      ]
     },
     "execution_count": 66,
     "metadata": {},
     "output_type": "execute_result"
    }
   ],
   "source": [
    "df_ong[\"count\"][df_ong[\"T10\"].between(q75+eps, q100)].sample(n_sample,random_state=42).sum()/n_sample"
   ]
  },
  {
   "cell_type": "markdown",
   "metadata": {},
   "source": [
    "### Dew point Temp.\n",
    "Dew point temperature (in 0.1 degrees Celsius) at 1.50 m altitude during observation;"
   ]
  },
  {
   "cell_type": "code",
   "execution_count": 67,
   "metadata": {
    "scrolled": false
   },
   "outputs": [
    {
     "data": {
      "text/plain": [
       "count   62,978.0000\n",
       "mean        71.2377\n",
       "std         56.9980\n",
       "min       -192.0000\n",
       "25%         32.0000\n",
       "50%         72.0000\n",
       "75%        115.0000\n",
       "max        215.0000\n",
       "Name: TD, dtype: float64"
      ]
     },
     "execution_count": 67,
     "metadata": {},
     "output_type": "execute_result"
    }
   ],
   "source": [
    "df_ong['TD'][df_ong['TD'].notnull()].describe()"
   ]
  },
  {
   "cell_type": "code",
   "execution_count": 68,
   "metadata": {},
   "outputs": [],
   "source": [
    "q0=df_ong['TD'].describe()[3]\n",
    "q25=df_ong['TD'].describe()[4]\n",
    "q50=df_ong['TD'].describe()[5]\n",
    "q75=df_ong['TD'].describe()[6]\n",
    "q100=df_ong['TD'].describe()[7]"
   ]
  },
  {
   "cell_type": "code",
   "execution_count": 69,
   "metadata": {},
   "outputs": [
    {
     "data": {
      "text/plain": [
       "0.826"
      ]
     },
     "execution_count": 69,
     "metadata": {},
     "output_type": "execute_result"
    }
   ],
   "source": [
    "df_ong[\"count\"][df_ong[\"TD\"].between(q0, q25)].sample(n_sample,random_state=42).sum()/n_sample"
   ]
  },
  {
   "cell_type": "code",
   "execution_count": 70,
   "metadata": {},
   "outputs": [
    {
     "data": {
      "text/plain": [
       "0.852"
      ]
     },
     "execution_count": 70,
     "metadata": {},
     "output_type": "execute_result"
    }
   ],
   "source": [
    "df_ong[\"count\"][df_ong[\"TD\"].between(q25+eps, q50)].sample(n_sample,random_state=42).sum()/n_sample"
   ]
  },
  {
   "cell_type": "code",
   "execution_count": 71,
   "metadata": {},
   "outputs": [
    {
     "data": {
      "text/plain": [
       "0.669"
      ]
     },
     "execution_count": 71,
     "metadata": {},
     "output_type": "execute_result"
    }
   ],
   "source": [
    "df_ong[\"count\"][df_ong[\"TD\"].between(q50+eps, q75)].sample(n_sample,random_state=42).sum()/n_sample"
   ]
  },
  {
   "cell_type": "code",
   "execution_count": 72,
   "metadata": {},
   "outputs": [
    {
     "data": {
      "text/plain": [
       "0.645"
      ]
     },
     "execution_count": 72,
     "metadata": {},
     "output_type": "execute_result"
    }
   ],
   "source": [
    "df_ong[\"count\"][df_ong[\"TD\"].between(q75+eps, q100)].sample(n_sample,random_state=42).sum()/n_sample"
   ]
  },
  {
   "cell_type": "markdown",
   "metadata": {},
   "source": [
    "### Duration of sunshine\n",
    "Duration of sunshine (in 0.1 hours) per hour section, calculated from global radiation (-1 for <0.05 hours)\n"
   ]
  },
  {
   "cell_type": "code",
   "execution_count": 73,
   "metadata": {
    "scrolled": true
   },
   "outputs": [
    {
     "data": {
      "text/plain": [
       "count   62,978.0000\n",
       "mean         2.0976\n",
       "std          3.5486\n",
       "min          0.0000\n",
       "25%          0.0000\n",
       "50%          0.0000\n",
       "75%          3.0000\n",
       "max         10.0000\n",
       "Name: SQ, dtype: float64"
      ]
     },
     "execution_count": 73,
     "metadata": {},
     "output_type": "execute_result"
    }
   ],
   "source": [
    "df_ong['SQ'][df_ong['SQ'].notnull()].describe()"
   ]
  },
  {
   "cell_type": "code",
   "execution_count": 74,
   "metadata": {},
   "outputs": [
    {
     "name": "stdout",
     "output_type": "stream",
     "text": [
      "0 0.6809\n",
      "1 0.6902\n",
      "2 0.8266\n",
      "3 0.9087\n",
      "4 0.7780\n",
      "5 1.0301\n",
      "6 0.7040\n",
      "7 0.8555\n",
      "8 0.8277\n",
      "9 0.6266\n",
      "10 0.8520\n"
     ]
    }
   ],
   "source": [
    "n_sample = 865\n",
    "for i in range(11): #0....10\n",
    "    print(i,\n",
    "          '%.4f'% (df_ong[\"count\"][df_ong[\"SQ\"]==i].sample(n_sample,random_state=42).sum()/n_sample))"
   ]
  },
  {
   "cell_type": "markdown",
   "metadata": {},
   "source": [
    "### Global radiation \n",
    "Global radiation (in J / cm^2) per hour section\n"
   ]
  },
  {
   "cell_type": "code",
   "execution_count": 75,
   "metadata": {
    "scrolled": false
   },
   "outputs": [
    {
     "data": {
      "text/plain": [
       "count   62,978.0000\n",
       "mean        43.0579\n",
       "std         69.3988\n",
       "min          0.0000\n",
       "25%          0.0000\n",
       "50%          3.0000\n",
       "75%         61.0000\n",
       "max        374.0000\n",
       "Name: Q, dtype: float64"
      ]
     },
     "execution_count": 75,
     "metadata": {},
     "output_type": "execute_result"
    }
   ],
   "source": [
    "df_ong['Q'][df_ong['Q'].notnull()].describe()"
   ]
  },
  {
   "cell_type": "code",
   "execution_count": 76,
   "metadata": {},
   "outputs": [],
   "source": [
    "q0=df_ong['Q'].describe()[3]\n",
    "q25=df_ong['Q'].describe()[4]\n",
    "q50=df_ong['Q'].describe()[5]\n",
    "q75=df_ong['Q'].describe()[6]\n",
    "q100=df_ong['Q'].describe()[7]"
   ]
  },
  {
   "cell_type": "code",
   "execution_count": 77,
   "metadata": {},
   "outputs": [
    {
     "data": {
      "text/plain": [
       "0.6138728323699422"
      ]
     },
     "execution_count": 77,
     "metadata": {},
     "output_type": "execute_result"
    }
   ],
   "source": [
    "df_ong[\"count\"][df_ong[\"Q\"].between(q0, q25)].sample(n_sample,random_state=42).sum()/n_sample"
   ]
  },
  {
   "cell_type": "code",
   "execution_count": 78,
   "metadata": {},
   "outputs": [
    {
     "data": {
      "text/plain": [
       "1.0936416184971098"
      ]
     },
     "execution_count": 78,
     "metadata": {},
     "output_type": "execute_result"
    }
   ],
   "source": [
    "df_ong[\"count\"][df_ong[\"Q\"].between(q25+eps, q50)].sample(n_sample,random_state=42).sum()/n_sample"
   ]
  },
  {
   "cell_type": "code",
   "execution_count": 79,
   "metadata": {},
   "outputs": [
    {
     "data": {
      "text/plain": [
       "1.023121387283237"
      ]
     },
     "execution_count": 79,
     "metadata": {},
     "output_type": "execute_result"
    }
   ],
   "source": [
    "df_ong[\"count\"][df_ong[\"Q\"].between(q50+eps, q75)].sample(n_sample,random_state=42).sum()/n_sample"
   ]
  },
  {
   "cell_type": "code",
   "execution_count": 80,
   "metadata": {},
   "outputs": [
    {
     "data": {
      "text/plain": [
       "0.7479768786127168"
      ]
     },
     "execution_count": 80,
     "metadata": {},
     "output_type": "execute_result"
    }
   ],
   "source": [
    "df_ong[\"count\"][df_ong[\"Q\"].between(q75+eps, q100)].sample(n_sample,random_state=42).sum()/n_sample"
   ]
  },
  {
   "cell_type": "markdown",
   "metadata": {},
   "source": [
    "### Duration of precipitation\n",
    "Duration of precipitation (in 0.1 hour) per hour section\n"
   ]
  },
  {
   "cell_type": "code",
   "execution_count": 81,
   "metadata": {
    "scrolled": false
   },
   "outputs": [
    {
     "data": {
      "text/plain": [
       "count   62,978.0000\n",
       "mean         0.8301\n",
       "std          2.3912\n",
       "min          0.0000\n",
       "25%          0.0000\n",
       "50%          0.0000\n",
       "75%          0.0000\n",
       "max         10.0000\n",
       "Name: DR, dtype: float64"
      ]
     },
     "execution_count": 81,
     "metadata": {},
     "output_type": "execute_result"
    }
   ],
   "source": [
    "df_ong['DR'][df_ong['DR'].notnull()].describe()"
   ]
  },
  {
   "cell_type": "code",
   "execution_count": 82,
   "metadata": {},
   "outputs": [
    {
     "name": "stdout",
     "output_type": "stream",
     "text": [
      "0 0.6783\n",
      "1 0.9130\n",
      "2 1.2191\n",
      "3 1.1130\n",
      "4 1.2852\n",
      "5 1.1530\n",
      "6 1.3391\n",
      "7 1.0852\n",
      "8 1.1774\n",
      "9 1.2678\n",
      "10 1.6000\n"
     ]
    }
   ],
   "source": [
    "n_sample = 575\n",
    "for i in range(11): #0....10\n",
    "    print(i,\n",
    "          '%.4f'% (df_ong[\"count\"][df_ong[\"DR\"]==i].sample(n_sample,random_state=42).sum()/n_sample))"
   ]
  },
  {
   "cell_type": "markdown",
   "metadata": {},
   "source": [
    "### Hourly of precipitation\n",
    "Hourly of precipitation (in 0.1 mm) (-1 for <0.05 mm)"
   ]
  },
  {
   "cell_type": "code",
   "execution_count": 83,
   "metadata": {
    "scrolled": true
   },
   "outputs": [
    {
     "data": {
      "text/plain": [
       "count   62,978.0000\n",
       "mean         1.0253\n",
       "std          5.4766\n",
       "min         -1.0000\n",
       "25%          0.0000\n",
       "50%          0.0000\n",
       "75%          0.0000\n",
       "max        215.0000\n",
       "Name: RH, dtype: float64"
      ]
     },
     "execution_count": 83,
     "metadata": {},
     "output_type": "execute_result"
    }
   ],
   "source": [
    "df_ong['RH'][df_ong['RH'].notnull()].describe()"
   ]
  },
  {
   "cell_type": "code",
   "execution_count": 84,
   "metadata": {},
   "outputs": [],
   "source": [
    "rh_mean=df_ong['RH'].describe()[1]\n",
    "rh_sd=df_ong['RH'].describe()[2]\n",
    "q0=df_ong['RH'].describe()[3]\n",
    "q25=df_ong['RH'].describe()[4]\n",
    "q50=df_ong['RH'].describe()[5]\n",
    "q75=df_ong['RH'].describe()[6]\n",
    "q100=df_ong['RH'].describe()[7]"
   ]
  },
  {
   "cell_type": "code",
   "execution_count": 85,
   "metadata": {},
   "outputs": [
    {
     "data": {
      "text/plain": [
       "1.0591304347826087"
      ]
     },
     "execution_count": 85,
     "metadata": {},
     "output_type": "execute_result"
    }
   ],
   "source": [
    "df_ong[\"count\"][df_ong[\"RH\"]==-1].sample(n_sample,random_state=42).sum()/n_sample"
   ]
  },
  {
   "cell_type": "code",
   "execution_count": 86,
   "metadata": {},
   "outputs": [
    {
     "data": {
      "text/plain": [
       "0.7304347826086957"
      ]
     },
     "execution_count": 86,
     "metadata": {},
     "output_type": "execute_result"
    }
   ],
   "source": [
    "df_ong[\"count\"][df_ong[\"RH\"]==0.0].sample(n_sample,random_state=42).sum()/n_sample"
   ]
  },
  {
   "cell_type": "code",
   "execution_count": 87,
   "metadata": {},
   "outputs": [
    {
     "name": "stdout",
     "output_type": "stream",
     "text": [
      "0.7145619013834693\n"
     ]
    }
   ],
   "source": [
    "#-1 --> mean\n",
    "n=df_ong[\"count\"][df_ong[\"RH\"].between(-1, rh_mean)].count()\n",
    "print(df_ong[\"count\"][df_ong[\"RH\"].between(-1, rh_mean)].sum()/n)"
   ]
  },
  {
   "cell_type": "code",
   "execution_count": 88,
   "metadata": {},
   "outputs": [
    {
     "name": "stdout",
     "output_type": "stream",
     "text": [
      "1.156044584166905\n"
     ]
    }
   ],
   "source": [
    "# mean --> mean+SD\n",
    "n=df_ong[\"count\"][df_ong[\"RH\"].between(rh_mean, rh_mean+rh_sd)].count()\n",
    "print(df_ong[\"count\"][df_ong[\"RH\"].between(rh_mean, rh_mean+rh_sd)].sum()/n)"
   ]
  },
  {
   "cell_type": "code",
   "execution_count": 89,
   "metadata": {},
   "outputs": [
    {
     "name": "stdout",
     "output_type": "stream",
     "text": [
      "1.3109619686800895\n"
     ]
    }
   ],
   "source": [
    "# mean+SD --> mean+2SD\n",
    "n=df_ong[\"count\"][df_ong[\"RH\"].between(rh_mean+1*rh_sd, rh_mean+2*rh_sd)].count()\n",
    "print(df_ong[\"count\"][df_ong[\"RH\"].between(rh_mean+1*rh_sd, rh_mean+2*rh_sd)].sum()/n)"
   ]
  },
  {
   "cell_type": "code",
   "execution_count": 90,
   "metadata": {},
   "outputs": [
    {
     "name": "stdout",
     "output_type": "stream",
     "text": [
      "1.2664872139973082\n"
     ]
    }
   ],
   "source": [
    "# mean+2SD --> mean+3SD\n",
    "n=df_ong[\"count\"][df_ong[\"RH\"].between(rh_mean+2*rh_sd, rh_mean+3*rh_sd)].count()\n",
    "print(df_ong[\"count\"][df_ong[\"RH\"].between(rh_mean+2*rh_sd, rh_mean+3*rh_sd)].sum()/n)"
   ]
  },
  {
   "cell_type": "code",
   "execution_count": 91,
   "metadata": {},
   "outputs": [
    {
     "name": "stdout",
     "output_type": "stream",
     "text": [
      "1.5697329376854599\n"
     ]
    }
   ],
   "source": [
    "# mean+3SD --> mean+4SD\n",
    "n=df_ong[\"count\"][df_ong[\"RH\"].between(rh_mean+3*rh_sd, rh_mean+4*rh_sd)].count()\n",
    "print(df_ong[\"count\"][df_ong[\"RH\"].between(rh_mean+3*rh_sd, rh_mean+4*rh_sd)].sum()/n)"
   ]
  },
  {
   "cell_type": "code",
   "execution_count": 92,
   "metadata": {},
   "outputs": [
    {
     "name": "stdout",
     "output_type": "stream",
     "text": [
      "1.7625368731563422\n"
     ]
    }
   ],
   "source": [
    "# mean+4SD --> max\n",
    "n=df_ong[\"count\"][df_ong[\"RH\"].between(rh_mean+4*rh_sd,215.0)].count()\n",
    "print(df_ong[\"count\"][df_ong[\"RH\"].between(rh_mean+4*rh_sd,215.0)].sum()/n)"
   ]
  }
 ],
 "metadata": {
  "kernelspec": {
   "display_name": "Python 3",
   "language": "python",
   "name": "python3"
  },
  "language_info": {
   "codemirror_mode": {
    "name": "ipython",
    "version": 3
   },
   "file_extension": ".py",
   "mimetype": "text/x-python",
   "name": "python",
   "nbconvert_exporter": "python",
   "pygments_lexer": "ipython3",
   "version": "3.6.5"
  }
 },
 "nbformat": 4,
 "nbformat_minor": 2
}
