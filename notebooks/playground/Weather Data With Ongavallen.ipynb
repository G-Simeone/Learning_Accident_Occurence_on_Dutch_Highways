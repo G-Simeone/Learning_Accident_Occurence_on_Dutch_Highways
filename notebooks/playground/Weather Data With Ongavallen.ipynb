{
 "cells": [
  {
   "cell_type": "code",
   "execution_count": 11,
   "metadata": {},
   "outputs": [],
   "source": [
    "import pandas as pd\n",
    "import sys\n",
    "sys.path.append('../..')\n",
    "from scripts import util"
   ]
  },
  {
   "cell_type": "code",
   "execution_count": 12,
   "metadata": {},
   "outputs": [],
   "source": [
    "conn = util.connect_rds()"
   ]
  },
  {
   "cell_type": "code",
   "execution_count": 13,
   "metadata": {},
   "outputs": [],
   "source": [
    "q = 'select * from rws_schema.ongevallen;'"
   ]
  },
  {
   "cell_type": "code",
   "execution_count": 14,
   "metadata": {},
   "outputs": [],
   "source": [
    "df = pd.read_sql(q, con=conn)"
   ]
  },
  {
   "cell_type": "code",
   "execution_count": 15,
   "metadata": {},
   "outputs": [
    {
     "data": {
      "text/plain": [
       "(176112, 14)"
      ]
     },
     "execution_count": 15,
     "metadata": {},
     "output_type": "execute_result"
    }
   ],
   "source": [
    "df.shape"
   ]
  },
  {
   "cell_type": "code",
   "execution_count": 17,
   "metadata": {},
   "outputs": [],
   "source": [
    "knmi = pd.read_sql('select * from rws_schema.knmi_data;', con=conn)"
   ]
  },
  {
   "cell_type": "code",
   "execution_count": 46,
   "metadata": {},
   "outputs": [],
   "source": [
    "knmi.loc[:,'YYYYMMDD'] = pd.to_datetime(knmi.YYYYMMDD)"
   ]
  },
  {
   "cell_type": "code",
   "execution_count": 20,
   "metadata": {},
   "outputs": [
    {
     "data": {
      "text/html": [
       "<div>\n",
       "<style scoped>\n",
       "    .dataframe tbody tr th:only-of-type {\n",
       "        vertical-align: middle;\n",
       "    }\n",
       "\n",
       "    .dataframe tbody tr th {\n",
       "        vertical-align: top;\n",
       "    }\n",
       "\n",
       "    .dataframe thead th {\n",
       "        text-align: right;\n",
       "    }\n",
       "</style>\n",
       "<table border=\"1\" class=\"dataframe\">\n",
       "  <thead>\n",
       "    <tr style=\"text-align: right;\">\n",
       "      <th></th>\n",
       "      <th>STN</th>\n",
       "      <th>YYYYMMDD</th>\n",
       "      <th>HH</th>\n",
       "      <th>DD</th>\n",
       "      <th>FH</th>\n",
       "      <th>FF</th>\n",
       "      <th>FX</th>\n",
       "      <th>T</th>\n",
       "      <th>T10</th>\n",
       "      <th>TD</th>\n",
       "      <th>...</th>\n",
       "      <th>VV</th>\n",
       "      <th>N</th>\n",
       "      <th>U</th>\n",
       "      <th>WW</th>\n",
       "      <th>IX</th>\n",
       "      <th>M</th>\n",
       "      <th>R</th>\n",
       "      <th>S</th>\n",
       "      <th>O</th>\n",
       "      <th>Y</th>\n",
       "    </tr>\n",
       "  </thead>\n",
       "  <tbody>\n",
       "    <tr>\n",
       "      <th>0</th>\n",
       "      <td>391.0</td>\n",
       "      <td>2012-01-01</td>\n",
       "      <td>1.0</td>\n",
       "      <td>220.0</td>\n",
       "      <td>40.0</td>\n",
       "      <td>40.0</td>\n",
       "      <td>80.0</td>\n",
       "      <td>107.0</td>\n",
       "      <td>NaN</td>\n",
       "      <td>103.0</td>\n",
       "      <td>...</td>\n",
       "      <td>NaN</td>\n",
       "      <td>NaN</td>\n",
       "      <td>97.0</td>\n",
       "      <td>NaN</td>\n",
       "      <td>6.0</td>\n",
       "      <td>None</td>\n",
       "      <td>None</td>\n",
       "      <td>None</td>\n",
       "      <td>None</td>\n",
       "      <td>None</td>\n",
       "    </tr>\n",
       "    <tr>\n",
       "      <th>1</th>\n",
       "      <td>391.0</td>\n",
       "      <td>2012-01-01</td>\n",
       "      <td>2.0</td>\n",
       "      <td>220.0</td>\n",
       "      <td>40.0</td>\n",
       "      <td>40.0</td>\n",
       "      <td>70.0</td>\n",
       "      <td>106.0</td>\n",
       "      <td>NaN</td>\n",
       "      <td>106.0</td>\n",
       "      <td>...</td>\n",
       "      <td>NaN</td>\n",
       "      <td>NaN</td>\n",
       "      <td>100.0</td>\n",
       "      <td>NaN</td>\n",
       "      <td>6.0</td>\n",
       "      <td>None</td>\n",
       "      <td>None</td>\n",
       "      <td>None</td>\n",
       "      <td>None</td>\n",
       "      <td>None</td>\n",
       "    </tr>\n",
       "    <tr>\n",
       "      <th>2</th>\n",
       "      <td>391.0</td>\n",
       "      <td>2012-01-01</td>\n",
       "      <td>3.0</td>\n",
       "      <td>210.0</td>\n",
       "      <td>40.0</td>\n",
       "      <td>40.0</td>\n",
       "      <td>70.0</td>\n",
       "      <td>107.0</td>\n",
       "      <td>NaN</td>\n",
       "      <td>106.0</td>\n",
       "      <td>...</td>\n",
       "      <td>NaN</td>\n",
       "      <td>NaN</td>\n",
       "      <td>99.0</td>\n",
       "      <td>NaN</td>\n",
       "      <td>6.0</td>\n",
       "      <td>None</td>\n",
       "      <td>None</td>\n",
       "      <td>None</td>\n",
       "      <td>None</td>\n",
       "      <td>None</td>\n",
       "    </tr>\n",
       "    <tr>\n",
       "      <th>3</th>\n",
       "      <td>391.0</td>\n",
       "      <td>2012-01-01</td>\n",
       "      <td>4.0</td>\n",
       "      <td>210.0</td>\n",
       "      <td>40.0</td>\n",
       "      <td>40.0</td>\n",
       "      <td>70.0</td>\n",
       "      <td>108.0</td>\n",
       "      <td>NaN</td>\n",
       "      <td>107.0</td>\n",
       "      <td>...</td>\n",
       "      <td>NaN</td>\n",
       "      <td>NaN</td>\n",
       "      <td>99.0</td>\n",
       "      <td>NaN</td>\n",
       "      <td>6.0</td>\n",
       "      <td>None</td>\n",
       "      <td>None</td>\n",
       "      <td>None</td>\n",
       "      <td>None</td>\n",
       "      <td>None</td>\n",
       "    </tr>\n",
       "    <tr>\n",
       "      <th>4</th>\n",
       "      <td>391.0</td>\n",
       "      <td>2012-01-01</td>\n",
       "      <td>5.0</td>\n",
       "      <td>220.0</td>\n",
       "      <td>50.0</td>\n",
       "      <td>50.0</td>\n",
       "      <td>90.0</td>\n",
       "      <td>110.0</td>\n",
       "      <td>NaN</td>\n",
       "      <td>108.0</td>\n",
       "      <td>...</td>\n",
       "      <td>NaN</td>\n",
       "      <td>NaN</td>\n",
       "      <td>99.0</td>\n",
       "      <td>NaN</td>\n",
       "      <td>6.0</td>\n",
       "      <td>None</td>\n",
       "      <td>None</td>\n",
       "      <td>None</td>\n",
       "      <td>None</td>\n",
       "      <td>None</td>\n",
       "    </tr>\n",
       "  </tbody>\n",
       "</table>\n",
       "<p>5 rows × 25 columns</p>\n",
       "</div>"
      ],
      "text/plain": [
       "     STN    YYYYMMDD   HH     DD    FH    FF    FX      T  T10     TD  ...   \\\n",
       "0  391.0  2012-01-01  1.0  220.0  40.0  40.0  80.0  107.0  NaN  103.0  ...    \n",
       "1  391.0  2012-01-01  2.0  220.0  40.0  40.0  70.0  106.0  NaN  106.0  ...    \n",
       "2  391.0  2012-01-01  3.0  210.0  40.0  40.0  70.0  107.0  NaN  106.0  ...    \n",
       "3  391.0  2012-01-01  4.0  210.0  40.0  40.0  70.0  108.0  NaN  107.0  ...    \n",
       "4  391.0  2012-01-01  5.0  220.0  50.0  50.0  90.0  110.0  NaN  108.0  ...    \n",
       "\n",
       "   VV   N      U  WW   IX     M     R     S     O     Y  \n",
       "0 NaN NaN   97.0 NaN  6.0  None  None  None  None  None  \n",
       "1 NaN NaN  100.0 NaN  6.0  None  None  None  None  None  \n",
       "2 NaN NaN   99.0 NaN  6.0  None  None  None  None  None  \n",
       "3 NaN NaN   99.0 NaN  6.0  None  None  None  None  None  \n",
       "4 NaN NaN   99.0 NaN  6.0  None  None  None  None  None  \n",
       "\n",
       "[5 rows x 25 columns]"
      ]
     },
     "execution_count": 20,
     "metadata": {},
     "output_type": "execute_result"
    }
   ],
   "source": [
    "knmi.head()"
   ]
  },
  {
   "cell_type": "code",
   "execution_count": 32,
   "metadata": {},
   "outputs": [],
   "source": [
    "t = pd.to_datetime(knmi.YYYYMMDD)"
   ]
  },
  {
   "cell_type": "code",
   "execution_count": 39,
   "metadata": {},
   "outputs": [
    {
     "data": {
      "text/html": [
       "<div>\n",
       "<style scoped>\n",
       "    .dataframe tbody tr th:only-of-type {\n",
       "        vertical-align: middle;\n",
       "    }\n",
       "\n",
       "    .dataframe tbody tr th {\n",
       "        vertical-align: top;\n",
       "    }\n",
       "\n",
       "    .dataframe thead th {\n",
       "        text-align: right;\n",
       "    }\n",
       "</style>\n",
       "<table border=\"1\" class=\"dataframe\">\n",
       "  <thead>\n",
       "    <tr style=\"text-align: right;\">\n",
       "      <th></th>\n",
       "      <th>id</th>\n",
       "      <th>source</th>\n",
       "      <th>datetime</th>\n",
       "      <th>direction</th>\n",
       "      <th>x</th>\n",
       "      <th>y</th>\n",
       "      <th>ending</th>\n",
       "      <th>weg</th>\n",
       "      <th>key</th>\n",
       "      <th>hecto</th>\n",
       "      <th>hectomtrng</th>\n",
       "      <th>dvk_letter</th>\n",
       "      <th>pos_tv_wol</th>\n",
       "      <th>hecto_key</th>\n",
       "    </tr>\n",
       "  </thead>\n",
       "  <tbody>\n",
       "    <tr>\n",
       "      <th>0</th>\n",
       "      <td>90088.0</td>\n",
       "      <td>NDW</td>\n",
       "      <td>2018-02-19 14:56:30</td>\n",
       "      <td>None</td>\n",
       "      <td>6.759355</td>\n",
       "      <td>52.241428</td>\n",
       "      <td>None</td>\n",
       "      <td>35.0</td>\n",
       "      <td>35.608.Li</td>\n",
       "      <td>60.8</td>\n",
       "      <td>608.0</td>\n",
       "      <td>None</td>\n",
       "      <td>Li</td>\n",
       "      <td>497347012.2017-11-01.608</td>\n",
       "    </tr>\n",
       "    <tr>\n",
       "      <th>1</th>\n",
       "      <td>90087.0</td>\n",
       "      <td>NDW</td>\n",
       "      <td>2018-02-19 14:25:46</td>\n",
       "      <td>None</td>\n",
       "      <td>5.147580</td>\n",
       "      <td>51.941662</td>\n",
       "      <td>None</td>\n",
       "      <td>2.0</td>\n",
       "      <td>2.795.Li</td>\n",
       "      <td>79.5</td>\n",
       "      <td>795.0</td>\n",
       "      <td>None</td>\n",
       "      <td>Li</td>\n",
       "      <td>275279004.2017-09-01.795</td>\n",
       "    </tr>\n",
       "    <tr>\n",
       "      <th>2</th>\n",
       "      <td>90086.0</td>\n",
       "      <td>NDW</td>\n",
       "      <td>2018-02-16 06:31:28</td>\n",
       "      <td>None</td>\n",
       "      <td>4.423963</td>\n",
       "      <td>52.051788</td>\n",
       "      <td>None</td>\n",
       "      <td>12.0</td>\n",
       "      <td>12.99.Re</td>\n",
       "      <td>9.9</td>\n",
       "      <td>99.0</td>\n",
       "      <td>None</td>\n",
       "      <td>Re</td>\n",
       "      <td>177303013.2017-12-01.99</td>\n",
       "    </tr>\n",
       "    <tr>\n",
       "      <th>3</th>\n",
       "      <td>90085.0</td>\n",
       "      <td>NDW</td>\n",
       "      <td>2018-02-15 15:11:22</td>\n",
       "      <td>None</td>\n",
       "      <td>4.564720</td>\n",
       "      <td>51.884312</td>\n",
       "      <td>None</td>\n",
       "      <td>16.0</td>\n",
       "      <td>16.236.y</td>\n",
       "      <td>23.6</td>\n",
       "      <td>236.0</td>\n",
       "      <td>y</td>\n",
       "      <td>Li</td>\n",
       "      <td>196267066.2014-11-01.236</td>\n",
       "    </tr>\n",
       "    <tr>\n",
       "      <th>4</th>\n",
       "      <td>90084.0</td>\n",
       "      <td>NDW</td>\n",
       "      <td>2018-02-15 10:51:55</td>\n",
       "      <td>None</td>\n",
       "      <td>4.700294</td>\n",
       "      <td>52.384201</td>\n",
       "      <td>None</td>\n",
       "      <td>200.0</td>\n",
       "      <td>200.97.c</td>\n",
       "      <td>9.7</td>\n",
       "      <td>97.0</td>\n",
       "      <td>c</td>\n",
       "      <td>Li</td>\n",
       "      <td>216377018.2015-04-01.97</td>\n",
       "    </tr>\n",
       "  </tbody>\n",
       "</table>\n",
       "</div>"
      ],
      "text/plain": [
       "        id source            datetime direction         x          y ending  \\\n",
       "0  90088.0    NDW 2018-02-19 14:56:30      None  6.759355  52.241428   None   \n",
       "1  90087.0    NDW 2018-02-19 14:25:46      None  5.147580  51.941662   None   \n",
       "2  90086.0    NDW 2018-02-16 06:31:28      None  4.423963  52.051788   None   \n",
       "3  90085.0    NDW 2018-02-15 15:11:22      None  4.564720  51.884312   None   \n",
       "4  90084.0    NDW 2018-02-15 10:51:55      None  4.700294  52.384201   None   \n",
       "\n",
       "     weg        key  hecto  hectomtrng dvk_letter pos_tv_wol  \\\n",
       "0   35.0  35.608.Li   60.8       608.0       None         Li   \n",
       "1    2.0   2.795.Li   79.5       795.0       None         Li   \n",
       "2   12.0   12.99.Re    9.9        99.0       None         Re   \n",
       "3   16.0   16.236.y   23.6       236.0          y         Li   \n",
       "4  200.0   200.97.c    9.7        97.0          c         Li   \n",
       "\n",
       "                  hecto_key  \n",
       "0  497347012.2017-11-01.608  \n",
       "1  275279004.2017-09-01.795  \n",
       "2   177303013.2017-12-01.99  \n",
       "3  196267066.2014-11-01.236  \n",
       "4   216377018.2015-04-01.97  "
      ]
     },
     "execution_count": 39,
     "metadata": {},
     "output_type": "execute_result"
    }
   ],
   "source": [
    "df.head()"
   ]
  },
  {
   "cell_type": "code",
   "execution_count": 43,
   "metadata": {},
   "outputs": [
    {
     "data": {
      "text/html": [
       "<div>\n",
       "<style scoped>\n",
       "    .dataframe tbody tr th:only-of-type {\n",
       "        vertical-align: middle;\n",
       "    }\n",
       "\n",
       "    .dataframe tbody tr th {\n",
       "        vertical-align: top;\n",
       "    }\n",
       "\n",
       "    .dataframe thead th {\n",
       "        text-align: right;\n",
       "    }\n",
       "</style>\n",
       "<table border=\"1\" class=\"dataframe\">\n",
       "  <thead>\n",
       "    <tr style=\"text-align: right;\">\n",
       "      <th></th>\n",
       "      <th>id</th>\n",
       "      <th>source</th>\n",
       "      <th>datetime</th>\n",
       "      <th>direction</th>\n",
       "      <th>x</th>\n",
       "      <th>y</th>\n",
       "      <th>ending</th>\n",
       "      <th>weg</th>\n",
       "      <th>key</th>\n",
       "      <th>hecto</th>\n",
       "      <th>hectomtrng</th>\n",
       "      <th>dvk_letter</th>\n",
       "      <th>pos_tv_wol</th>\n",
       "      <th>hecto_key</th>\n",
       "    </tr>\n",
       "  </thead>\n",
       "  <tbody>\n",
       "    <tr>\n",
       "      <th>0</th>\n",
       "      <td>90088.0</td>\n",
       "      <td>NDW</td>\n",
       "      <td>2018-02-19 14:56:30</td>\n",
       "      <td>None</td>\n",
       "      <td>6.759355</td>\n",
       "      <td>52.241428</td>\n",
       "      <td>None</td>\n",
       "      <td>35.0</td>\n",
       "      <td>35.608.Li</td>\n",
       "      <td>60.8</td>\n",
       "      <td>608.0</td>\n",
       "      <td>None</td>\n",
       "      <td>Li</td>\n",
       "      <td>497347012.2017-11-01.608</td>\n",
       "    </tr>\n",
       "    <tr>\n",
       "      <th>1</th>\n",
       "      <td>90087.0</td>\n",
       "      <td>NDW</td>\n",
       "      <td>2018-02-19 14:25:46</td>\n",
       "      <td>None</td>\n",
       "      <td>5.147580</td>\n",
       "      <td>51.941662</td>\n",
       "      <td>None</td>\n",
       "      <td>2.0</td>\n",
       "      <td>2.795.Li</td>\n",
       "      <td>79.5</td>\n",
       "      <td>795.0</td>\n",
       "      <td>None</td>\n",
       "      <td>Li</td>\n",
       "      <td>275279004.2017-09-01.795</td>\n",
       "    </tr>\n",
       "    <tr>\n",
       "      <th>2</th>\n",
       "      <td>90086.0</td>\n",
       "      <td>NDW</td>\n",
       "      <td>2018-02-16 06:31:28</td>\n",
       "      <td>None</td>\n",
       "      <td>4.423963</td>\n",
       "      <td>52.051788</td>\n",
       "      <td>None</td>\n",
       "      <td>12.0</td>\n",
       "      <td>12.99.Re</td>\n",
       "      <td>9.9</td>\n",
       "      <td>99.0</td>\n",
       "      <td>None</td>\n",
       "      <td>Re</td>\n",
       "      <td>177303013.2017-12-01.99</td>\n",
       "    </tr>\n",
       "    <tr>\n",
       "      <th>3</th>\n",
       "      <td>90085.0</td>\n",
       "      <td>NDW</td>\n",
       "      <td>2018-02-15 15:11:22</td>\n",
       "      <td>None</td>\n",
       "      <td>4.564720</td>\n",
       "      <td>51.884312</td>\n",
       "      <td>None</td>\n",
       "      <td>16.0</td>\n",
       "      <td>16.236.y</td>\n",
       "      <td>23.6</td>\n",
       "      <td>236.0</td>\n",
       "      <td>y</td>\n",
       "      <td>Li</td>\n",
       "      <td>196267066.2014-11-01.236</td>\n",
       "    </tr>\n",
       "    <tr>\n",
       "      <th>4</th>\n",
       "      <td>90084.0</td>\n",
       "      <td>NDW</td>\n",
       "      <td>2018-02-15 10:51:55</td>\n",
       "      <td>None</td>\n",
       "      <td>4.700294</td>\n",
       "      <td>52.384201</td>\n",
       "      <td>None</td>\n",
       "      <td>200.0</td>\n",
       "      <td>200.97.c</td>\n",
       "      <td>9.7</td>\n",
       "      <td>97.0</td>\n",
       "      <td>c</td>\n",
       "      <td>Li</td>\n",
       "      <td>216377018.2015-04-01.97</td>\n",
       "    </tr>\n",
       "  </tbody>\n",
       "</table>\n",
       "</div>"
      ],
      "text/plain": [
       "        id source            datetime direction         x          y ending  \\\n",
       "0  90088.0    NDW 2018-02-19 14:56:30      None  6.759355  52.241428   None   \n",
       "1  90087.0    NDW 2018-02-19 14:25:46      None  5.147580  51.941662   None   \n",
       "2  90086.0    NDW 2018-02-16 06:31:28      None  4.423963  52.051788   None   \n",
       "3  90085.0    NDW 2018-02-15 15:11:22      None  4.564720  51.884312   None   \n",
       "4  90084.0    NDW 2018-02-15 10:51:55      None  4.700294  52.384201   None   \n",
       "\n",
       "     weg        key  hecto  hectomtrng dvk_letter pos_tv_wol  \\\n",
       "0   35.0  35.608.Li   60.8       608.0       None         Li   \n",
       "1    2.0   2.795.Li   79.5       795.0       None         Li   \n",
       "2   12.0   12.99.Re    9.9        99.0       None         Re   \n",
       "3   16.0   16.236.y   23.6       236.0          y         Li   \n",
       "4  200.0   200.97.c    9.7        97.0          c         Li   \n",
       "\n",
       "                  hecto_key  \n",
       "0  497347012.2017-11-01.608  \n",
       "1  275279004.2017-09-01.795  \n",
       "2   177303013.2017-12-01.99  \n",
       "3  196267066.2014-11-01.236  \n",
       "4   216377018.2015-04-01.97  "
      ]
     },
     "execution_count": 43,
     "metadata": {},
     "output_type": "execute_result"
    }
   ],
   "source": [
    "df.head()t"
   ]
  },
  {
   "cell_type": "code",
   "execution_count": 44,
   "metadata": {},
   "outputs": [],
   "source": [
    "trial_time = df.datetime[0]"
   ]
  },
  {
   "cell_type": "code",
   "execution_count": 45,
   "metadata": {},
   "outputs": [
    {
     "data": {
      "text/plain": [
       "Timestamp('2018-02-19 14:56:30')"
      ]
     },
     "execution_count": 45,
     "metadata": {},
     "output_type": "execute_result"
    }
   ],
   "source": [
    "trial_time"
   ]
  },
  {
   "cell_type": "code",
   "execution_count": 76,
   "metadata": {
    "scrolled": false
   },
   "outputs": [
    {
     "data": {
      "text/plain": [
       "160.0"
      ]
     },
     "execution_count": 76,
     "metadata": {},
     "output_type": "execute_result"
    }
   ],
   "source": [
    "get_weather(trial_time, 391, 'DD', knmi_data=knmi)"
   ]
  },
  {
   "cell_type": "code",
   "execution_count": 41,
   "metadata": {},
   "outputs": [
    {
     "data": {
      "text/plain": [
       "0    2012-01-01\n",
       "1    2012-01-01\n",
       "2    2012-01-01\n",
       "3    2012-01-01\n",
       "4    2012-01-01\n",
       "Name: YYYYMMDD, dtype: object"
      ]
     },
     "execution_count": 41,
     "metadata": {},
     "output_type": "execute_result"
    }
   ],
   "source": []
  },
  {
   "cell_type": "code",
   "execution_count": 70,
   "metadata": {},
   "outputs": [
    {
     "data": {
      "text/plain": [
       "True"
      ]
     },
     "execution_count": 70,
     "metadata": {},
     "output_type": "execute_result"
    }
   ],
   "source": [
    "knmi.YYYYMMDD.dtype == '<M8[ns]'"
   ]
  },
  {
   "cell_type": "code",
   "execution_count": 72,
   "metadata": {},
   "outputs": [],
   "source": [
    "from warnings import "
   ]
  },
  {
   "cell_type": "code",
   "execution_count": 73,
   "metadata": {},
   "outputs": [
    {
     "data": {
      "text/plain": [
       "warnings.WarningMessage"
      ]
     },
     "execution_count": 73,
     "metadata": {},
     "output_type": "execute_result"
    }
   ],
   "source": []
  },
  {
   "cell_type": "code",
   "execution_count": 75,
   "metadata": {},
   "outputs": [],
   "source": [
    "def get_weather(timestamp, station, weather_type, knmi_data):\n",
    "    '''\n",
    "    timestamp datetime\n",
    "    timestamp of the accident - will be used to find the nearest weather timestamp\n",
    "    \n",
    "    station, float\n",
    "    the weather station code for which the weather is required. This would be the closed weather\n",
    "    station to the accident point\n",
    "    \n",
    "    weather_type string\n",
    "    Eg 'DD' - the value of precipitation that's required\n",
    "    These have to be codes as in the dataframe.\n",
    "    \n",
    "    knmi_data DataFrame\n",
    "    KNMI dataframe\n",
    "    \n",
    "    return one value - whichever type the column requested is\n",
    "    \n",
    "    #TODO!: We are getting weather from the last hour, so even if it's 11:59 its get weather reported\n",
    "    at 11 and not 12.\n",
    "    \n",
    "    '''\n",
    "    \n",
    "    \n",
    "    \n",
    "    if knmi_data.YYYYMMDD.dtype!='<M8[ns]':\n",
    "        raise ValueError(\"Please convert YYYYMMDD column into datetime using pd.to_datetime first\")\n",
    "    \n",
    "    date = pd.to_datetime(timestamp.date())\n",
    "    hour = timestamp.hour\n",
    "    \n",
    "    \n",
    "    t = knmi_data.loc[((knmi_data.YYYYMMDD==date)&(knmi_data.HH==hour)&(knmi_data.STN==station)), weather_type].values[0]\n",
    "    \n",
    "    return t\n",
    "    \n",
    "    \n",
    "    "
   ]
  },
  {
   "cell_type": "code",
   "execution_count": 77,
   "metadata": {},
   "outputs": [],
   "source": [
    "from scripts import util"
   ]
  },
  {
   "cell_type": "code",
   "execution_count": 78,
   "metadata": {},
   "outputs": [
    {
     "data": {
      "text/plain": [
       "<module 'scripts.util' from '../../scripts/util.py'>"
      ]
     },
     "execution_count": 78,
     "metadata": {},
     "output_type": "execute_result"
    }
   ],
   "source": []
  },
  {
   "cell_type": "code",
   "execution_count": null,
   "metadata": {},
   "outputs": [],
   "source": []
  }
 ],
 "metadata": {
  "kernelspec": {
   "display_name": "Python 3",
   "language": "python",
   "name": "python3"
  },
  "language_info": {
   "codemirror_mode": {
    "name": "ipython",
    "version": 3
   },
   "file_extension": ".py",
   "mimetype": "text/x-python",
   "name": "python",
   "nbconvert_exporter": "python",
   "pygments_lexer": "ipython3",
   "version": "3.6.5"
  }
 },
 "nbformat": 4,
 "nbformat_minor": 2
}
