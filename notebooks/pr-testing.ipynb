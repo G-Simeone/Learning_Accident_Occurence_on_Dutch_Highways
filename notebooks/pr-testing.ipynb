{
 "cells": [
  {
   "cell_type": "code",
   "execution_count": 1,
   "metadata": {},
   "outputs": [],
   "source": [
    "import pandas as pd\n",
    "from utils.read_exp_utils import read_experiment_result_db\n",
    "import numpy as np\n",
    "import matplotlib.pyplot as plt\n",
    "plt.switch_backend('agg')#plot without using an X-server, use the Agg backend instead.\n",
    "from matplotlib.backends.backend_pdf import PdfPages\n",
    "from sklearn.metrics import * \n",
    "import itertools\n",
    "import os\n",
    "\n",
    "from visualization.visualize import ParameterResult\n",
    "import psycopg2\n",
    "import sys"
   ]
  },
  {
   "cell_type": "code",
   "execution_count": 2,
   "metadata": {},
   "outputs": [],
   "source": [
    "def parse(all_exp, i):\n",
    "    test = all_exp.loc[i]\n",
    "\n",
    "    y_scores = test[\"y_scores\"]\n",
    "    y_true = test[\"y_true\"]\n",
    "    space_time = test[\"space_time\"]\n",
    "\n",
    "    df_pr = pd.DataFrame({'space': space_time['space'], 'time': space_time['time'], 'y_scores': y_scores, 'y_true':y_true})\n",
    "    df_pr = df_pr.sort_values(by=['time', 'y_scores'], ascending=False)\n",
    "    \n",
    "    return df_pr"
   ]
  },
  {
   "cell_type": "code",
   "execution_count": 3,
   "metadata": {},
   "outputs": [],
   "source": [
    "def tp_count(df, num):\n",
    "    #take the first num rows\n",
    "    df = df.head(num)\n",
    "    #return the sum of trues in those rows\n",
    "    return df['y_true'].sum()"
   ]
  },
  {
   "cell_type": "code",
   "execution_count": 4,
   "metadata": {},
   "outputs": [],
   "source": [
    "def pr_at_k(df, k, p, count):\n",
    "    #total tp calculated by counting the number of tp when looping at the top i of each time period\n",
    "    #total fp calculated by num of locations assigned 1 - all the tp\n",
    "    tp = df.groupby('time').pipe(tp_count, k)\n",
    "    fp = (count*k) - tp\n",
    "\n",
    "    precision = tp/(tp+fp)\n",
    "    recall = tp/p\n",
    "    \n",
    "    return precision, recall"
   ]
  },
  {
   "cell_type": "code",
   "execution_count": 5,
   "metadata": {
    "scrolled": false
   },
   "outputs": [],
   "source": [
    "def get_pr_for_val_set(df):\n",
    "    '''needs to have 'space', time, y_scores, and 'y_true'''\n",
    "    \n",
    "    #find how many distinct segments there are \n",
    "    hecto_universe_count = df['space'].nunique()\n",
    "    \n",
    "    #get raw total number of positive and negatives\n",
    "    p = df['y_true'].sum()\n",
    "    \n",
    "    #create empty arrays to fill\n",
    "    precision_array = []\n",
    "    recall_array = []\n",
    "\n",
    "    #for loop through number of segments classified as accident\n",
    "    for i in range(1, hecto_universe_count+1):\n",
    "\n",
    "        precision, recall = pr_at_k(df, i, p, hecto_universe_count)\n",
    "\n",
    "        precision_array.append(precision)\n",
    "        recall_array.append(recall)\n",
    "    \n",
    "    return precision_array, recall_array"
   ]
  },
  {
   "cell_type": "code",
   "execution_count": 6,
   "metadata": {},
   "outputs": [],
   "source": [
    "def get_pr(experiment_num, model_type, parameter_id):\n",
    "    all_exp = read_experiment_result_db(experiment_num, model_type, parameter_id)\n",
    "\n",
    "    all_precisions = []\n",
    "    all_recalls = []\n",
    "\n",
    "    #for number of dfs\n",
    "    for i in range(4, all_exp.shape[0]):\n",
    "\n",
    "        #get the new df\n",
    "        df = parse(all_exp, i)\n",
    "\n",
    "        #get the new pr vectors\n",
    "        precision_array, recall_array = get_pr_for_val_set(df)\n",
    "\n",
    "        #save vectors to vec of vec\n",
    "        all_precisions.append(precision_array)\n",
    "        all_recalls.append(recall_array)\n",
    "\n",
    "    #find avg of vec of vecs\n",
    "    final_precision = np.average(all_precisions, axis = 0)\n",
    "    final_recall = np.average(all_recalls, axis = 0)\n",
    "    \n",
    "    return final_precision, final_recall\n"
   ]
  },
  {
   "cell_type": "code",
   "execution_count": 7,
   "metadata": {},
   "outputs": [],
   "source": [
    "p, r = get_pr(44, 'LR', 'C_0.01_penalty_l1_random_state_42')"
   ]
  },
  {
   "cell_type": "code",
   "execution_count": 8,
   "metadata": {},
   "outputs": [
    {
     "data": {
      "text/plain": [
       "0.05723443223443223"
      ]
     },
     "execution_count": 8,
     "metadata": {},
     "output_type": "execute_result"
    }
   ],
   "source": [
    "p[7]"
   ]
  },
  {
   "cell_type": "code",
   "execution_count": 9,
   "metadata": {},
   "outputs": [
    {
     "data": {
      "text/plain": [
       "0.10877864558665203"
      ]
     },
     "execution_count": 9,
     "metadata": {},
     "output_type": "execute_result"
    }
   ],
   "source": [
    "r[7]"
   ]
  }
 ],
 "metadata": {
  "kernelspec": {
   "display_name": "Python 3",
   "language": "python",
   "name": "python3"
  },
  "language_info": {
   "codemirror_mode": {
    "name": "ipython",
    "version": 3
   },
   "file_extension": ".py",
   "mimetype": "text/x-python",
   "name": "python",
   "nbconvert_exporter": "python",
   "pygments_lexer": "ipython3",
   "version": "3.6.5"
  }
 },
 "nbformat": 4,
 "nbformat_minor": 2
}
